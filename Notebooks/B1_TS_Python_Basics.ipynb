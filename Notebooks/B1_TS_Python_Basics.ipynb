{
 "cells": [
  {
   "cell_type": "markdown",
   "id": "01ecba74-c086-4a38-af15-2b12350a240f",
   "metadata": {},
   "source": [
    "<img src=\"../Images/DSC_Logo.png\" style=\"width: 400px;\">"
   ]
  },
  {
   "cell_type": "markdown",
   "id": "49822811-91f7-4d38-ad1d-eec181a2f1bf",
   "metadata": {},
   "source": [
    "# Time Series Concepts in Python "
   ]
  },
  {
   "cell_type": "markdown",
   "id": "6c5fb8dd-3678-470a-a0e6-e62b42e4b39b",
   "metadata": {},
   "source": [
    "Basic Python packages for data handling:"
   ]
  },
  {
   "cell_type": "code",
   "execution_count": null,
   "id": "e262eab9-c645-45e3-8aaa-0958a4d5c786",
   "metadata": {},
   "outputs": [],
   "source": [
    "import numpy as np\n",
    "import pandas as pd"
   ]
  },
  {
   "cell_type": "markdown",
   "id": "88002ed2-2736-404a-bd12-37ea50519738",
   "metadata": {},
   "source": [
    "Python packages for specific analysis:"
   ]
  },
  {
   "cell_type": "code",
   "execution_count": null,
   "id": "b5c7406c-405c-41d2-b4f8-2367cd2127a2",
   "metadata": {},
   "outputs": [],
   "source": [
    "import math\n",
    "import statistics as stat\n",
    "import random"
   ]
  },
  {
   "cell_type": "markdown",
   "id": "2a6fbc61-b74f-430a-bad3-cfc5c16b5bc3",
   "metadata": {},
   "source": [
    "Matplotlib - the basic library for plotting:"
   ]
  },
  {
   "cell_type": "code",
   "execution_count": null,
   "id": "02f9ec4f-dd2d-438f-8863-6a6cf261ff97",
   "metadata": {},
   "outputs": [],
   "source": [
    "import matplotlib.pyplot as plt"
   ]
  },
  {
   "cell_type": "markdown",
   "id": "9178d58a-2e0c-420b-a348-aa9663552e7b",
   "metadata": {},
   "source": [
    "Python packages specifically for time series data analysis:"
   ]
  },
  {
   "cell_type": "code",
   "execution_count": null,
   "id": "de408168-4167-4239-a779-e205c574e1ae",
   "metadata": {},
   "outputs": [],
   "source": [
    "from datetime import datetime"
   ]
  },
  {
   "cell_type": "markdown",
   "id": "a2e0c7d3-a5f6-4df5-ad9a-46212b7421ae",
   "metadata": {},
   "source": [
    "## 1. Create time series in Python"
   ]
  },
  {
   "cell_type": "code",
   "execution_count": null,
   "id": "8cffdb01-4e5e-49ff-889e-1ab0148825ec",
   "metadata": {},
   "outputs": [],
   "source": [
    "my_year = 2020\n",
    "my_month = 1\n",
    "my_day = 23\n",
    "#my_hour = 13\n",
    "#my_min = 30\n",
    "#my_sec = 15\n",
    "my_date = datetime(my_year,my_month,my_day)"
   ]
  },
  {
   "cell_type": "code",
   "execution_count": null,
   "id": "4a0c54ce-ec79-46f1-bac5-5df807ef96d6",
   "metadata": {},
   "outputs": [],
   "source": [
    "my_date"
   ]
  },
  {
   "cell_type": "code",
   "execution_count": null,
   "id": "4c189084-6098-4e3e-a2e9-f4d9a138d765",
   "metadata": {},
   "outputs": [],
   "source": [
    "my_date.day"
   ]
  },
  {
   "cell_type": "markdown",
   "id": "f1f894af-6255-439b-a709-398d9c8969e4",
   "metadata": {},
   "source": [
    "Operations in datetime format:"
   ]
  },
  {
   "cell_type": "code",
   "execution_count": null,
   "id": "4f2ee6c9-2bdb-425f-b293-10ab7ec99019",
   "metadata": {},
   "outputs": [],
   "source": [
    "nowday = datetime.today()\n",
    "diff = nowday - my_date\n",
    "diff.days"
   ]
  },
  {
   "cell_type": "markdown",
   "id": "859b3174-dbfe-4c67-a48f-0c3d3bff46f5",
   "metadata": {},
   "source": [
    "## 1.2. Create DateTime object using NumPy"
   ]
  },
  {
   "cell_type": "code",
   "execution_count": null,
   "id": "032a7a1d-0ab5-4d57-98e4-917578b140d2",
   "metadata": {},
   "outputs": [],
   "source": [
    "np.array(['2020-03-09','2020-03-10','2020-03-11','2020-03-12','2020-03-13','2020-03-14'], dtype='datetime64')\n",
    "# or:\n",
    "np.arange('2020-03-09','2020-03-15', dtype='datetime64[D]')"
   ]
  },
  {
   "cell_type": "markdown",
   "id": "b12bb3c4-8324-41d9-8626-0960ffa1f8c8",
   "metadata": {},
   "source": [
    "## 1.3. Create DateTime object using Pandas"
   ]
  },
  {
   "cell_type": "code",
   "execution_count": null,
   "id": "e6b80205-b1ea-4b25-8c30-de12d618aca4",
   "metadata": {},
   "outputs": [],
   "source": [
    "pd.date_range('2020-03-09', periods=6, freq='D')"
   ]
  },
  {
   "cell_type": "markdown",
   "id": "4604eaad-b383-46c4-9e37-0a1437311e86",
   "metadata": {},
   "source": [
    "Specify format:"
   ]
  },
  {
   "cell_type": "code",
   "execution_count": null,
   "id": "f583c76c-6cd0-41ea-9ab4-062b33db8e03",
   "metadata": {},
   "outputs": [],
   "source": [
    "pd.to_datetime('2020-09-03', format='%Y-%d-%m')"
   ]
  },
  {
   "cell_type": "markdown",
   "id": "2de1f363-6fe8-4e5c-86b7-e6e53c99b36f",
   "metadata": {},
   "source": [
    "**Exercise:** Test how the following format could be converted in a DateTime object: 15/10/2020"
   ]
  },
  {
   "cell_type": "code",
   "execution_count": null,
   "id": "ad2fcf64-c2e7-4192-929d-d21baed1b23a",
   "metadata": {},
   "outputs": [],
   "source": []
  },
  {
   "cell_type": "markdown",
   "id": "ec125e47-ea41-4b2a-b798-c4cef4bfc087",
   "metadata": {},
   "source": [
    "## 1.4. Create a Pandas time series dataframe"
   ]
  },
  {
   "cell_type": "code",
   "execution_count": null,
   "id": "d03c22d1-852a-4700-8e55-eda924fd0ac8",
   "metadata": {},
   "outputs": [],
   "source": [
    "data = np.random.randn(6,2) # create some random data\n",
    "data"
   ]
  },
  {
   "cell_type": "code",
   "execution_count": null,
   "id": "a743c9e9-cf0e-4b28-8955-4654c8665b4a",
   "metadata": {},
   "outputs": [],
   "source": [
    "cols = ['A','B']\n",
    "idx = pd.date_range('2020-03-09', periods=6, freq='D')\n",
    "df = pd.DataFrame(data, index=idx, columns=cols)\n",
    "df"
   ]
  },
  {
   "cell_type": "code",
   "execution_count": null,
   "id": "5576fc57-7153-4188-9045-3328c3389b9b",
   "metadata": {},
   "outputs": [],
   "source": [
    "df.plot()"
   ]
  },
  {
   "cell_type": "markdown",
   "id": "184876ef-9b17-48de-8219-23e4958b4e4d",
   "metadata": {},
   "source": [
    "**Exercise:** Create a Pandas time series dataframe that contains decadal data."
   ]
  },
  {
   "cell_type": "code",
   "execution_count": null,
   "id": "d1cf59f9-40f8-4354-b095-65a78c06a79e",
   "metadata": {},
   "outputs": [],
   "source": []
  },
  {
   "cell_type": "markdown",
   "id": "ddac9994-7d38-4781-8681-db2544ca1218",
   "metadata": {},
   "source": [
    "## 1.5 Interchange date column and index in dataframes"
   ]
  },
  {
   "cell_type": "code",
   "execution_count": null,
   "id": "cffca047-29d6-484f-b5dd-2479c186e99d",
   "metadata": {},
   "outputs": [],
   "source": [
    "data = np.random.randn(100,2) # create some random data\n",
    "cols = ['A','B']\n",
    "idx = pd.date_range('2020-03-09', periods=100, freq='D')\n",
    "df = pd.DataFrame(data, index=idx, columns=cols)\n",
    "\n",
    "df['Date'] = df.index\n",
    "df"
   ]
  },
  {
   "cell_type": "markdown",
   "id": "0c5c01da-e98d-40f0-b016-688237911ad3",
   "metadata": {},
   "source": [
    "## 1.6 Derive DateTime elements"
   ]
  },
  {
   "cell_type": "code",
   "execution_count": null,
   "id": "668f3094-7e76-4f2c-b793-05ca6861fd15",
   "metadata": {},
   "outputs": [],
   "source": [
    "df['Month'] = df['Date'].dt.month\n",
    "df"
   ]
  },
  {
   "cell_type": "code",
   "execution_count": null,
   "id": "21e62f37-2941-4547-9df2-ae4ec4119718",
   "metadata": {},
   "outputs": [],
   "source": [
    "df['Month'] = df.index.month\n",
    "df"
   ]
  },
  {
   "cell_type": "markdown",
   "id": "c9b7f92b-b33f-43b7-a2a9-6cbcec530ec2",
   "metadata": {},
   "source": [
    "**Exercise:** How could we define a new column with the years?"
   ]
  },
  {
   "cell_type": "code",
   "execution_count": null,
   "id": "c0aa6abe-876d-4902-b6f8-437ab97d4e18",
   "metadata": {},
   "outputs": [],
   "source": []
  },
  {
   "cell_type": "markdown",
   "id": "2620ef2f-5e67-41dd-8111-b65b3ecad634",
   "metadata": {},
   "source": [
    "## 2. Basic time series operations"
   ]
  },
  {
   "cell_type": "markdown",
   "id": "3910f1bd-e6f7-46f6-9370-72b749c68ddf",
   "metadata": {},
   "source": [
    "## 2.1. Resampling - changing the frequency of time series data"
   ]
  },
  {
   "cell_type": "code",
   "execution_count": null,
   "id": "4aa23341-dbef-49a1-a78d-8f071cf68868",
   "metadata": {},
   "outputs": [],
   "source": [
    "df.resample('W-MON').mean()"
   ]
  },
  {
   "cell_type": "markdown",
   "id": "8c2cd1cf-ca6b-4263-b901-64692adc7126",
   "metadata": {},
   "source": [
    "## 2.2 Shifting the data points in a time series forward (or backward) in time"
   ]
  },
  {
   "cell_type": "code",
   "execution_count": null,
   "id": "c203e4b8-c4a6-4cf3-97a0-d281c1607588",
   "metadata": {},
   "outputs": [],
   "source": [
    "df.shift(1)"
   ]
  },
  {
   "cell_type": "markdown",
   "id": "804f9616-3ba2-4b0d-b94d-1e218bba2680",
   "metadata": {},
   "source": [
    "## 2.3 Time-based slicing"
   ]
  },
  {
   "cell_type": "code",
   "execution_count": null,
   "id": "9c2c9d66-d0a5-440f-be92-d15dc95248b5",
   "metadata": {},
   "outputs": [],
   "source": [
    "df['2020-03-10':'2020-03-12']"
   ]
  },
  {
   "cell_type": "markdown",
   "id": "4854838d-70ee-4670-b963-f4217249dea8",
   "metadata": {},
   "source": [
    "## 3. Import & analyze - temperature time series\n",
    "![sky](../Images/temperature.jpg)\n",
    "\n",
    "*Image modified from Gerd Altmann, Pixabay*"
   ]
  },
  {
   "cell_type": "markdown",
   "id": "e8d1afba-6c97-4921-a616-080fba3f3477",
   "metadata": {},
   "source": [
    "## 3.1. Pandas for csv files"
   ]
  },
  {
   "cell_type": "markdown",
   "id": "1760e84f-0f6e-4d6c-9604-2f4ff4ae793e",
   "metadata": {},
   "source": [
    "Import data from csv:"
   ]
  },
  {
   "cell_type": "code",
   "execution_count": null,
   "id": "93797427-b332-4221-9e5c-d6c3ab9b4743",
   "metadata": {},
   "outputs": [],
   "source": [
    "path = '../Datasets/NOAA_time_series.csv' \n",
    "df = pd.read_csv(path, skiprows=4, delimiter=',')"
   ]
  },
  {
   "cell_type": "code",
   "execution_count": null,
   "id": "fa8c7239-e06e-4670-8b83-b3abadf86416",
   "metadata": {},
   "outputs": [],
   "source": [
    "df.head()"
   ]
  },
  {
   "cell_type": "markdown",
   "id": "17b63dcd-58b2-4fd5-9ccb-2d8a39ec0fe6",
   "metadata": {},
   "source": [
    "Summary statistics:"
   ]
  },
  {
   "cell_type": "code",
   "execution_count": null,
   "id": "a4ea9118-14c5-4ab4-8812-45d1cf4262c9",
   "metadata": {},
   "outputs": [],
   "source": [
    "df.describe()"
   ]
  },
  {
   "cell_type": "markdown",
   "id": "48e1523f-49be-4b67-9281-fba58f77ba7e",
   "metadata": {},
   "source": [
    "Setting the time variable as index:"
   ]
  },
  {
   "cell_type": "code",
   "execution_count": null,
   "id": "f330a030-8fe5-43a8-a574-9ee3bbc0c458",
   "metadata": {},
   "outputs": [],
   "source": [
    "df.set_index('Year', inplace=True) # Set the 'Date' column as the index"
   ]
  },
  {
   "cell_type": "code",
   "execution_count": null,
   "id": "45402f8c-2bcf-4fba-b844-f885698b8985",
   "metadata": {},
   "outputs": [],
   "source": [
    "df.head()"
   ]
  },
  {
   "cell_type": "markdown",
   "id": "9367002f-2fcf-442e-9072-39f0079b9997",
   "metadata": {},
   "source": [
    "Plot:"
   ]
  },
  {
   "cell_type": "code",
   "execution_count": null,
   "id": "49470050-4aa6-4ef6-b1c5-d7796458a844",
   "metadata": {},
   "outputs": [],
   "source": [
    "df.plot()"
   ]
  },
  {
   "cell_type": "markdown",
   "id": "294cc070-132e-47e0-b558-62b218c54e5b",
   "metadata": {},
   "source": [
    "### More plots ...\n",
    "\n",
    "### Boxplot:"
   ]
  },
  {
   "cell_type": "code",
   "execution_count": null,
   "id": "92b79ce9-7152-41d2-b0cd-3270f61af0bc",
   "metadata": {},
   "outputs": [],
   "source": [
    "# Create a new column for decade\n",
    "df['Decade'] = (df.index // 10) * 10\n",
    "\n",
    "# Prepare data for boxplot\n",
    "decade_data = [df[df['Decade'] == decade]['Anomaly'].values for decade in df['Decade'].unique()]\n",
    "\n",
    "# Create boxplot using matplotlib\n",
    "plt.figure()\n",
    "plt.boxplot(decade_data, labels=df['Decade'].unique())\n",
    "plt.title('Decade Boxplot of Anomalies')\n",
    "plt.xlabel('Decade')\n",
    "plt.ylabel('Anomaly')\n",
    "plt.grid(axis='y')\n",
    "plt.xticks(rotation=45)\n",
    "plt.show()"
   ]
  },
  {
   "cell_type": "markdown",
   "id": "bb731cef-40cc-4929-a5be-2d0192f86ce5",
   "metadata": {},
   "source": [
    "### Bar plot:"
   ]
  },
  {
   "cell_type": "code",
   "execution_count": null,
   "id": "23a67628-fb4c-4f8e-abb6-8bef6a7887dd",
   "metadata": {},
   "outputs": [],
   "source": [
    "# Calculate the average anomaly per decade\n",
    "average_anomalies = df.groupby('Decade')['Anomaly'].median()\n",
    "\n",
    "# Create a bar plot using matplotlib\n",
    "plt.figure()\n",
    "average_anomalies.plot(kind='bar', color='skyblue')\n",
    "plt.title('Average Anomalies by Decade')\n",
    "plt.xlabel('Decade')\n",
    "plt.ylabel('Average Anomaly')\n",
    "plt.xticks(rotation=45)\n",
    "plt.grid(axis='y')\n",
    "plt.show()"
   ]
  },
  {
   "cell_type": "markdown",
   "id": "9943cb7f-0ad1-4881-9916-c4d9fb571c17",
   "metadata": {},
   "source": [
    "## 3.2. xarray for netCDF"
   ]
  },
  {
   "cell_type": "markdown",
   "id": "806bb0cf-3d96-4c56-8f48-601e33ccbe83",
   "metadata": {},
   "source": [
    "Like pandas for netCDF ... common data format for time series data ..."
   ]
  },
  {
   "cell_type": "code",
   "execution_count": null,
   "id": "b952c467-1144-4a24-8bac-c72be0f794ed",
   "metadata": {},
   "outputs": [],
   "source": [
    "pip install xarray"
   ]
  },
  {
   "cell_type": "code",
   "execution_count": null,
   "id": "8d2babbc-74bb-4c46-9a0a-9345cf96ed1e",
   "metadata": {},
   "outputs": [],
   "source": [
    "import xarray as xr"
   ]
  },
  {
   "cell_type": "markdown",
   "id": "f650f0ae-e437-465e-ac5e-37a07b7db984",
   "metadata": {},
   "source": [
    "Import a dataset from [ERA5](https://cds.climate.copernicus.eu/cdsapp#!/dataset/reanalysis-era5-single-levels) reanalysis: "
   ]
  },
  {
   "cell_type": "code",
   "execution_count": null,
   "id": "36f0873d-9089-4bb0-88b0-4d5ebce82bff",
   "metadata": {},
   "outputs": [],
   "source": [
    "ERA5 = xr.open_dataset('../Datasets/ERA5_snippet.nc')"
   ]
  },
  {
   "cell_type": "markdown",
   "id": "47c0b163-6ca0-433e-8489-5c4b978f3f7c",
   "metadata": {},
   "source": [
    "Investigate:"
   ]
  },
  {
   "cell_type": "code",
   "execution_count": null,
   "id": "44accc1c-e39b-44d2-aca5-bb142ca26398",
   "metadata": {},
   "outputs": [],
   "source": [
    "ERA5"
   ]
  },
  {
   "cell_type": "code",
   "execution_count": null,
   "id": "492026af-1a36-4531-8430-99c61c856cae",
   "metadata": {},
   "outputs": [],
   "source": [
    "ERA5['tp']"
   ]
  },
  {
   "cell_type": "code",
   "execution_count": null,
   "id": "a87153a3-6582-422d-9b7b-05886f25a2fb",
   "metadata": {
    "scrolled": true
   },
   "outputs": [],
   "source": [
    "ERA5['t2m']"
   ]
  },
  {
   "cell_type": "markdown",
   "id": "073a7e01-2454-4d71-a482-98b860eefd75",
   "metadata": {},
   "source": [
    "Mathematical operations:"
   ]
  },
  {
   "cell_type": "code",
   "execution_count": null,
   "id": "2fb81c97-992e-40c6-a1f5-6bdb2980c328",
   "metadata": {},
   "outputs": [],
   "source": [
    "ERA5['t2m'].values = (ERA5.t2m-273.15).values"
   ]
  },
  {
   "cell_type": "code",
   "execution_count": null,
   "id": "cac6664e-4ad9-4a87-b846-07e42ec13ab9",
   "metadata": {
    "scrolled": true
   },
   "outputs": [],
   "source": [
    "ERA5"
   ]
  },
  {
   "cell_type": "markdown",
   "id": "79ad9b91-ec4b-45ce-9b28-b79bdeea0dea",
   "metadata": {},
   "source": [
    "Resample:"
   ]
  },
  {
   "cell_type": "code",
   "execution_count": null,
   "id": "03b780f0-a9b4-4784-b30d-7f1fbf204459",
   "metadata": {},
   "outputs": [],
   "source": [
    "ERA5 = ERA5.resample(time='1D').mean()  # Daily mean"
   ]
  },
  {
   "cell_type": "code",
   "execution_count": null,
   "id": "5ffe358a-f23f-4bbd-82a2-819a25e13cb3",
   "metadata": {
    "scrolled": true
   },
   "outputs": [],
   "source": [
    "ERA5"
   ]
  },
  {
   "cell_type": "markdown",
   "id": "171279c1-3429-43e6-9d92-3be096b1f51d",
   "metadata": {},
   "source": [
    "Select a specific date:"
   ]
  },
  {
   "cell_type": "code",
   "execution_count": null,
   "id": "df7dd8c7-252c-458c-bfd0-9b82a3a030b2",
   "metadata": {},
   "outputs": [],
   "source": [
    "ERA5['t2m'][0,:,:] # select by index: first entry"
   ]
  },
  {
   "cell_type": "code",
   "execution_count": null,
   "id": "8e5e32d6-16e1-440c-b97e-a5e29709f468",
   "metadata": {},
   "outputs": [],
   "source": [
    "ERA5['t2m'].sel(time='2023-07-01') # select by date"
   ]
  },
  {
   "cell_type": "markdown",
   "id": "01ed7b7b-3022-4862-9d80-25c01f9090e6",
   "metadata": {},
   "source": [
    "Plot with matplotlib:"
   ]
  },
  {
   "cell_type": "code",
   "execution_count": null,
   "id": "c0b526a1-1a22-42fa-bf48-11d42f6146db",
   "metadata": {},
   "outputs": [],
   "source": [
    "ERA5['t2m'][0,:,:].plot()"
   ]
  },
  {
   "cell_type": "markdown",
   "id": "4a8fe8fe-ed5f-4df2-ac28-27d1044819ba",
   "metadata": {},
   "source": [
    "Plotting on a map using Cartopy & Matplotlib:"
   ]
  },
  {
   "cell_type": "code",
   "execution_count": null,
   "id": "fc605642-8860-4bde-8036-1bde8af222e7",
   "metadata": {},
   "outputs": [],
   "source": [
    "pip install cartopy"
   ]
  },
  {
   "cell_type": "code",
   "execution_count": null,
   "id": "d082bdb2-f7c0-4dea-aab7-3fb22c1ae1c7",
   "metadata": {},
   "outputs": [],
   "source": [
    "import matplotlib.pyplot as plt\n",
    "import cartopy.crs as ccrs"
   ]
  },
  {
   "cell_type": "code",
   "execution_count": null,
   "id": "edf8129e-e472-48b3-9bf0-706cfeecea9b",
   "metadata": {},
   "outputs": [],
   "source": [
    "plt.figure(figsize=(10, 8))\n",
    "ax = plt.axes(projection=ccrs.PlateCarree())\n",
    "\n",
    "# Use the plot method for quick visualization\n",
    "ERA5['t2m'][0,:,:].plot(ax=ax, cmap='coolwarm', add_colorbar=True)\n",
    "\n",
    "# Add coastlines and grid lines\n",
    "ax.coastlines()\n",
    "ax.gridlines(draw_labels=True)\n",
    "\n",
    "plt.title('2-Meter Temperature [°C] on 2023-01-01 00:00:00 over Germany')\n",
    "plt.show()"
   ]
  },
  {
   "cell_type": "markdown",
   "id": "2cabb565-c114-4d29-99cb-2c8cf38fd529",
   "metadata": {},
   "source": [
    "### Temperature time series for Bremen (single grid cell):"
   ]
  },
  {
   "cell_type": "markdown",
   "id": "bda757e3-21ae-4897-9840-ca76a7818b86",
   "metadata": {},
   "source": [
    "Select data:"
   ]
  },
  {
   "cell_type": "code",
   "execution_count": null,
   "id": "5d4536dc-1b4b-4199-b637-422c09ca051f",
   "metadata": {},
   "outputs": [],
   "source": [
    "# Select a specific location (e.g., longitude = 10.0, latitude = 50.0)\n",
    "bremen = ERA5.sel(longitude=8.808, latitude=53.075, method='nearest')"
   ]
  },
  {
   "cell_type": "code",
   "execution_count": null,
   "id": "d5199f04-8175-45d2-8ac5-fb52ef7bd3d2",
   "metadata": {},
   "outputs": [],
   "source": [
    "bremen"
   ]
  },
  {
   "cell_type": "markdown",
   "id": "e9e713fd-af07-46ed-b86b-42700a0df44f",
   "metadata": {},
   "source": [
    "Plot:"
   ]
  },
  {
   "cell_type": "code",
   "execution_count": null,
   "id": "19a5998e-f0e4-4c15-ab51-1bca1ec1d356",
   "metadata": {
    "scrolled": true
   },
   "outputs": [],
   "source": [
    "plt.figure(figsize=(10, 5))\n",
    "bremen['t2m'].plot()\n",
    "plt.title('Daily mean temperature for Bremen in the year 2023')\n",
    "plt.ylabel('Temperature (°C)')\n",
    "plt.xlabel('Date')\n",
    "plt.grid()\n",
    "plt.show()"
   ]
  },
  {
   "cell_type": "markdown",
   "id": "8d089c5d-bf5a-45a2-8dfc-a898255561c2",
   "metadata": {},
   "source": [
    "**Exercise:** Select and plot the temperature time series for another region of your choice in Germany."
   ]
  },
  {
   "cell_type": "code",
   "execution_count": null,
   "id": "213715b4-06ad-4071-b9e5-f26c9678216f",
   "metadata": {},
   "outputs": [],
   "source": []
  }
 ],
 "metadata": {
  "kernelspec": {
   "display_name": "Python 3 (ipykernel)",
   "language": "python",
   "name": "python3"
  },
  "language_info": {
   "codemirror_mode": {
    "name": "ipython",
    "version": 3
   },
   "file_extension": ".py",
   "mimetype": "text/x-python",
   "name": "python",
   "nbconvert_exporter": "python",
   "pygments_lexer": "ipython3",
   "version": "3.11.10"
  }
 },
 "nbformat": 4,
 "nbformat_minor": 5
}
