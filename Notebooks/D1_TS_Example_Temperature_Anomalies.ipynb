{
 "cells": [
  {
   "cell_type": "markdown",
   "id": "34ee8e7a-0817-48d2-b824-1e839ca9cfdf",
   "metadata": {},
   "source": [
    "<img src=\"../Images/DSC_Logo.png\" style=\"width: 400px;\">"
   ]
  },
  {
   "cell_type": "markdown",
   "id": "937960b0-ae1e-4278-b8be-49c93b7305aa",
   "metadata": {},
   "source": [
    "# Temperature Anomalies"
   ]
  },
  {
   "cell_type": "markdown",
   "id": "05812448-d6b8-41a1-9733-a8420687796e",
   "metadata": {},
   "source": [
    "![sky](../Images/temperature.jpg)\n",
    "\n",
    "*Image modified from Gerd Altmann, Pixabay*\n",
    "\n",
    "This notebook analyzes a dataset of global temperature anomalies for months from 1850 to 2024 against the 1901-2000 average. The data serves as a critical resource for assessing long-term climate trends and variations over time. It is sourced from the NOAA National Centers for Environmental Information. The dataset is used to demonstrate outliers and data gaps in time series, to analyze stationarity, autocorrelation, and patterns in time series and to calculate linear trends.\n",
    "\n",
    "\n",
    "**Original dataset:** NOAA National Centers for Environmental information: Climate at a Glance: Global Time Series [Data set]. https://www.ncei.noaa.gov/access/monitoring/climate-at-a-glance/global/time-series, retrieved on August 23, 2024."
   ]
  },
  {
   "cell_type": "code",
   "execution_count": null,
   "id": "d7082c61-7755-42f8-bd00-e2a37629f351",
   "metadata": {},
   "outputs": [],
   "source": [
    "pip install statsmodels"
   ]
  },
  {
   "cell_type": "code",
   "execution_count": null,
   "id": "e9e66077-11c3-43c6-9f8c-11298acd12c0",
   "metadata": {},
   "outputs": [],
   "source": [
    "import warnings\n",
    "warnings.filterwarnings(\"ignore\", category=UserWarning) # Suppress specific warnings"
   ]
  },
  {
   "cell_type": "code",
   "execution_count": null,
   "id": "30a40749-c15c-4abb-99f1-4ce018507528",
   "metadata": {},
   "outputs": [],
   "source": [
    "import pandas as pd\n",
    "import numpy as np\n",
    "import matplotlib.pyplot as plt"
   ]
  },
  {
   "cell_type": "markdown",
   "id": "5875cd35-1bc2-489a-8863-2e2f75e4ef5b",
   "metadata": {},
   "source": [
    "## **Exercise 1: Time Series Basics**"
   ]
  },
  {
   "cell_type": "markdown",
   "id": "2431f314-cb0c-447c-b030-9fdc2ca68475",
   "metadata": {},
   "source": [
    "## 1. Load, Prepare and Plot Time Series Data"
   ]
  },
  {
   "cell_type": "markdown",
   "id": "f344816a-999b-400d-809e-0c6d2daef5e0",
   "metadata": {},
   "source": [
    "**Exercise:** Import the dataset of NOAA global temperature anomalies in **monthly resolution**. The path of the dataset is '../Datasets/NOAA_time_series_monthly.csv'."
   ]
  },
  {
   "cell_type": "code",
   "execution_count": null,
   "id": "83f8acca-4c2f-4e54-b1bc-9a76203753ed",
   "metadata": {},
   "outputs": [],
   "source": []
  },
  {
   "cell_type": "markdown",
   "id": "96a66f8d-a516-4209-be8e-7b835c8b7f4b",
   "metadata": {},
   "source": [
    "**Exercise:** Print the first rows of the dataset to see it's structure."
   ]
  },
  {
   "cell_type": "code",
   "execution_count": null,
   "id": "30fe8650",
   "metadata": {},
   "outputs": [],
   "source": []
  },
  {
   "cell_type": "markdown",
   "id": "b1bcd195-62d6-42c7-bd51-c28e52808466",
   "metadata": {},
   "source": [
    "**Exercise:** convert *Date* into a `datetime` object, set the date column as index for easy analysis and and check the datasets' structure after conversion."
   ]
  },
  {
   "cell_type": "code",
   "execution_count": null,
   "id": "1c96bad4-e018-48b6-bd76-22396e38fa75",
   "metadata": {},
   "outputs": [],
   "source": []
  },
  {
   "cell_type": "markdown",
   "id": "4ecb506e-8f8d-4094-853e-ff5295d66f98",
   "metadata": {},
   "source": [
    "**Exercise:** Print summary statistics of the time series."
   ]
  },
  {
   "cell_type": "code",
   "execution_count": null,
   "id": "7cbcc316-7e09-4057-b66b-4d7bc7d69338",
   "metadata": {},
   "outputs": [],
   "source": []
  },
  {
   "cell_type": "markdown",
   "id": "65884dbc-b020-4b5d-9c4b-5e8be0a88187",
   "metadata": {},
   "source": [
    "**Exercise:** Plot the time series."
   ]
  },
  {
   "cell_type": "code",
   "execution_count": null,
   "id": "c7a2aaa2-52e1-4d02-b254-bda877c6ab7f",
   "metadata": {},
   "outputs": [],
   "source": []
  },
  {
   "cell_type": "markdown",
   "id": "4b5216d0-8617-4768-a0f7-2f8c9827d6b6",
   "metadata": {},
   "source": [
    "**Exercise:** In addition, create a bar plot showing median monthly anomalies."
   ]
  },
  {
   "cell_type": "code",
   "execution_count": null,
   "id": "e6f1bb5a-2554-4704-ab19-402c0479dd88",
   "metadata": {},
   "outputs": [],
   "source": []
  },
  {
   "cell_type": "markdown",
   "id": "f615dbe8-f166-4dd0-a6b1-595b067f8f5b",
   "metadata": {},
   "source": [
    "## **Exercise 2: Exploration of Time Series Features**"
   ]
  },
  {
   "cell_type": "markdown",
   "id": "516902f1-baa6-4934-80f1-f04d33c9b739",
   "metadata": {},
   "source": [
    "## 2. Time Series Decomposition and Evaluation\n",
    "\n",
    "Investigating the time series features of global temperature anomalies is essential for understanding the Earth's climate dynamics. Analyzing trends allows us to identify long-term warming patterns. Examining seasonal patterns helps differentiate natural climatic variations from anthropogenic influences. Additionally, studying the residuals, or the remaining values after removing trends and seasonality, helps uncover and study any anomalies or outliers."
   ]
  },
  {
   "cell_type": "markdown",
   "id": "7715e8af-5024-4562-af5b-2458e6d5a4f0",
   "metadata": {},
   "source": [
    "**Exercise:** Decompose the time series into the components trend, seasonal, and residual using an additive model from the `statsmodels` library. Are the patterns as you expected?"
   ]
  },
  {
   "cell_type": "code",
   "execution_count": null,
   "id": "79320fe1-48e7-44b5-8fff-e6d1632bb28b",
   "metadata": {},
   "outputs": [],
   "source": []
  },
  {
   "cell_type": "markdown",
   "id": "3e88e2af-f90c-4d68-b9c9-3d88b63a936d",
   "metadata": {},
   "source": [
    "**Exercise:** Does the decomposition effectively captured the underlying structure of the time series, accurately separating the trend and seasonal components from the random fluctuations? Plot the ACF (using the `statsmodels` library) with 48 lags to check for any remaining autocorrelation in the residuals. Eventually test different lag sizes to see the difference in information you gain from the ACF plot. In addition, plot the lag plot from the `pandas` library. "
   ]
  },
  {
   "cell_type": "code",
   "execution_count": null,
   "id": "d4e35c30-41dc-4cb3-a533-e9e545b7d708",
   "metadata": {},
   "outputs": [],
   "source": []
  },
  {
   "cell_type": "code",
   "execution_count": null,
   "id": "795f66e5-16cb-416a-b879-e4a4b6e7852d",
   "metadata": {},
   "outputs": [],
   "source": []
  },
  {
   "cell_type": "markdown",
   "id": "780a6455-eb11-4d76-b694-bcc0245ea3b6",
   "metadata": {},
   "source": [
    "**Exercise:** Conducting a white noise test like the Ljung-Box test would provide additional confidence that the residuals are uncorrelated and the decomposition effectively captured the time series structure. Calculate the Ljung-Box statistics using the `statsmodels` library."
   ]
  },
  {
   "cell_type": "code",
   "execution_count": null,
   "id": "a860c75c-9f2e-43bb-88eb-1c78d292b3ac",
   "metadata": {},
   "outputs": [],
   "source": []
  },
  {
   "cell_type": "markdown",
   "id": "7601637a-f073-46d5-944d-2799ac5627ef",
   "metadata": {},
   "source": [
    "**Exercise:** Further assess the stationarity of residuals for validating the decomposition process by examining their rolling mean and standard deviation. Use a rolling window size of 12 months. The choice of a 12-month window allows for capturing annual trends and seasonal variations. Plot these statistics alongside the residuals to evaluate their stationarity visually."
   ]
  },
  {
   "cell_type": "code",
   "execution_count": null,
   "id": "cae390ab-2308-4beb-8626-975e2cf19566",
   "metadata": {},
   "outputs": [],
   "source": []
  },
  {
   "cell_type": "markdown",
   "id": "0d98176d-97e0-4cb0-b4cd-bf46ec3364c7",
   "metadata": {},
   "source": [
    "**Exercise:** Explore seasonality using the `month_plot` from the `statsmodels` library. This plot can be used to check for any recurring patterns or trends across different months over several years."
   ]
  },
  {
   "cell_type": "code",
   "execution_count": null,
   "id": "63c3a896-c257-4c9c-9a4d-40f305c4fd9e",
   "metadata": {},
   "outputs": [],
   "source": []
  },
  {
   "cell_type": "markdown",
   "id": "634a4be4-ab57-4c5c-acea-001b2132282c",
   "metadata": {},
   "source": [
    "## **Exercise 3: Time Series Model ARIMA**"
   ]
  },
  {
   "cell_type": "markdown",
   "id": "c94321e0-d975-47f3-a310-9cdcd374f2bd",
   "metadata": {},
   "source": [
    "## 3. Investigate the Time Series for Stationarity and Differencing"
   ]
  },
  {
   "cell_type": "markdown",
   "id": "fd5cf085-be0a-4ca4-b666-10a880719d9c",
   "metadata": {},
   "source": [
    "**Exercise:** Do you expect that the temperature anomaly time series is stationary? Calculate the `kpss` statistics to test it."
   ]
  },
  {
   "cell_type": "code",
   "execution_count": null,
   "id": "9fb55033-1ed7-4071-82b5-0d77edb0057d",
   "metadata": {},
   "outputs": [],
   "source": []
  },
  {
   "cell_type": "markdown",
   "id": "262d936a-cee6-474d-a053-1b6aadfcd1bd",
   "metadata": {},
   "source": [
    "**Exercise:** Conduct differencing the time series with a lag of 1 and plot the resulting time series."
   ]
  },
  {
   "cell_type": "code",
   "execution_count": null,
   "id": "c6ab9723-0cbe-43ac-8700-6522a7a83280",
   "metadata": {},
   "outputs": [],
   "source": []
  },
  {
   "cell_type": "markdown",
   "id": "5a4035f4-c97a-42e5-bd2f-d2f4b431112d",
   "metadata": {},
   "source": [
    "**Exercise:** Plot the ACF and PACF plots of the differenced time series and calculate the KPSS statistics to check again for stationarity."
   ]
  },
  {
   "cell_type": "code",
   "execution_count": null,
   "id": "a143d895-a09e-4ec8-b96e-d6dade4c8e0e",
   "metadata": {
    "scrolled": true
   },
   "outputs": [],
   "source": []
  },
  {
   "cell_type": "markdown",
   "id": "dc90564f-c53a-4fed-a1df-4d60943fc56d",
   "metadata": {},
   "source": [
    "## 4. ARIMA"
   ]
  },
  {
   "cell_type": "code",
   "execution_count": null,
   "id": "3da15e30-07dc-4f59-b0c4-5e96234dbf85",
   "metadata": {},
   "outputs": [],
   "source": [
    "from statsmodels.tsa.arima.model import ARIMA \n",
    "\n",
    "def choose_model(x, max_p, max_q, ctrl=1.03):\n",
    "    best_aic = np.inf\n",
    "    best_order = None\n",
    "    best_mdl = None\n",
    "\n",
    "    for p in range(max_p + 1):\n",
    "        for q in range(max_q + 1):\n",
    "            try:\n",
    "                if p == 0 and q == 0:\n",
    "                    continue\n",
    "                # Use ARIMA model instead of ARMA\n",
    "                model = ARIMA(x, order=(p, 0, q))\n",
    "                results = model.fit()\n",
    "                aic = results.aic\n",
    "                if aic < best_aic:\n",
    "                    best_aic = aic\n",
    "                    best_order = (p, q)\n",
    "                    best_mdl = results\n",
    "            except Exception as e:\n",
    "                print(f\"Model fitting failed for order ({p},{q}) with error: {e}\")\n",
    "                continue\n",
    "\n",
    "    print(f\"Best ARIMA model order: {best_order} with AIC: {best_aic}\")\n",
    "    return best_mdl"
   ]
  },
  {
   "cell_type": "markdown",
   "id": "60d62377-d2e7-4599-9756-0adbd7e269af",
   "metadata": {},
   "source": [
    "**Exercise:** Use the 'choose_model' function to identify the best ARIMA model for the time series. Explore a range of autoregressive (p) and moving average (q) parameters. Analyze the output to assess the most suitable ARIMA model parameters for the temperature anomalies.\n",
    "\n",
    "Note: Running the loop to find the best ARIMA model with the temperature anomalies time series can take a considerable amount of time because of it's length. Therefore choose a rather small range of parameters (e.g. 0 to 3)."
   ]
  },
  {
   "cell_type": "code",
   "execution_count": null,
   "id": "0b7baaec-1127-4105-812a-1a692ca93c77",
   "metadata": {},
   "outputs": [],
   "source": []
  },
  {
   "cell_type": "markdown",
   "id": "3f78ebf7-43b1-451a-8e4a-2f96271ca299",
   "metadata": {},
   "source": [
    "**Exercise:** Based on your previous model selection process, specify the optimal ARIMA model parameters and utilize the ARIMA function to fit the model to the differenced temperature anomalies, applying the selected parameters."
   ]
  },
  {
   "cell_type": "code",
   "execution_count": null,
   "id": "adba29f5-a418-483a-92af-309088a53763",
   "metadata": {},
   "outputs": [],
   "source": []
  },
  {
   "cell_type": "markdown",
   "id": "29d278ea-418e-4e42-826f-e473359ab597",
   "metadata": {},
   "source": [
    "**Exercise:** Analyze whether the ARIMA model fits the data well. Ideally, we want to see that the residuals resemble white noise, implying that you have captured all systematic patterns in the data. Analyze the residuals from the ARIMA model using with the following: ACF, Lag plot, Ljung-Box statistics, Q-Q plot and normality test."
   ]
  },
  {
   "cell_type": "code",
   "execution_count": null,
   "id": "8dc97c8f-f4e3-4f34-9371-093747c8eb07",
   "metadata": {},
   "outputs": [],
   "source": []
  },
  {
   "cell_type": "markdown",
   "id": "0f0b18d5-daa2-4acf-9fa9-4aef22866ec2",
   "metadata": {},
   "source": [
    "**Exercise:** Nevertheless, use the fitted ARMA model to predict temperature anomalies for the period from January 2000 to December 2025 to get a feeling for the workflow."
   ]
  },
  {
   "cell_type": "code",
   "execution_count": null,
   "id": "3647ccb0-d202-4987-b69b-bfa442033007",
   "metadata": {},
   "outputs": [],
   "source": []
  }
 ],
 "metadata": {
  "kernelspec": {
   "display_name": "Python 3 (ipykernel)",
   "language": "python",
   "name": "python3"
  },
  "language_info": {
   "codemirror_mode": {
    "name": "ipython",
    "version": 3
   },
   "file_extension": ".py",
   "mimetype": "text/x-python",
   "name": "python",
   "nbconvert_exporter": "python",
   "pygments_lexer": "ipython3",
   "version": "3.11.10"
  }
 },
 "nbformat": 4,
 "nbformat_minor": 5
}
