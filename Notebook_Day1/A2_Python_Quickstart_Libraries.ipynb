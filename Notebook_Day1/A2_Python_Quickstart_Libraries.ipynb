{
 "cells": [
  {
   "cell_type": "markdown",
   "id": "48eca60f-5bb9-49b3-aebd-30cffd9d99cb",
   "metadata": {},
   "source": [
    "<img src=\"../Images/DSC_Logo.png\" style=\"width: 400px;\">"
   ]
  },
  {
   "cell_type": "markdown",
   "id": "541f387c-9f50-4373-9f5a-b2ef0a1c2089",
   "metadata": {},
   "source": [
    "# Python Libraries"
   ]
  },
  {
   "cell_type": "markdown",
   "id": "51385aad-fc62-4091-893f-8baabd76ee34",
   "metadata": {},
   "source": [
    "This notebooks contains a quickstart to basic Python libraries - especially NumPy and Pandas - two foundational libraries for data analysis in Python."
   ]
  },
  {
   "cell_type": "markdown",
   "id": "5e5ef15c-ea6c-41ae-879f-526dd3c86a9d",
   "metadata": {},
   "source": [
    "<img src=\"../Images/pandas_numpy.png\" style=\"width: 300px;\">"
   ]
  },
  {
   "cell_type": "markdown",
   "id": "d37414be-b75c-4703-98aa-b510e639d61e",
   "metadata": {},
   "source": [
    "Data analysis with **Pandas** works with tabular data using **DataFrames** (similar to Excel spreadsheets or database tables. DataFrames have a 2-dimensional data structure and labeled axes (rows and columns). These are indexed for effiecient data retrieval."
   ]
  },
  {
   "cell_type": "markdown",
   "id": "a20fa712-e050-4f19-a4e3-32d28958849a",
   "metadata": {},
   "source": [
    "<img src=\"../Images/dataframe.png\" style=\"width: 300px;\">"
   ]
  },
  {
   "cell_type": "markdown",
   "id": "9f7f6262-5549-4f1c-b24f-571fada99214",
   "metadata": {},
   "source": [
    "**NumPy** is THE foundational library for numerical computing, supporting large and multi-dimensional **arrays** and vectorized operations. A data array is a structure for stroring elements of the same type. Arrays can be one-dimensional (like a list) or multi-dimensional (like a matrix)."
   ]
  },
  {
   "cell_type": "markdown",
   "id": "9333a3c6-ebf4-4d4c-aaa8-2ebf3b57add9",
   "metadata": {},
   "source": [
    "<img src=\"../Images/array.png\" style=\"width: 600px;\">"
   ]
  },
  {
   "cell_type": "markdown",
   "id": "1fe7475f-703b-4fde-8045-b43e5eefbd13",
   "metadata": {},
   "source": [
    "## 1. Predefined functions"
   ]
  },
  {
   "cell_type": "markdown",
   "id": "a493bdbb-cd8e-4ff6-a175-0030bddfae9c",
   "metadata": {},
   "source": [
    "Python packages have predefined functions for mathematical operations; Examples below:"
   ]
  },
  {
   "cell_type": "code",
   "execution_count": 1,
   "id": "91cae2fb-0d77-4fc6-910f-4d82fed967f2",
   "metadata": {},
   "outputs": [],
   "source": [
    "import numpy as np\n",
    "import statistics as stat"
   ]
  },
  {
   "cell_type": "code",
   "execution_count": 2,
   "id": "030483b8-52be-4700-8cec-22d1a9650a48",
   "metadata": {},
   "outputs": [],
   "source": [
    "x=[2.75, 1.75, 1.25, 0.25, 0.5, 1.25, 3.5]"
   ]
  },
  {
   "cell_type": "code",
   "execution_count": 3,
   "id": "7b6b2f69-7a98-46c4-9519-dfafd5ef1861",
   "metadata": {},
   "outputs": [
    {
     "data": {
      "text/plain": [
       "1.6071428571428572"
      ]
     },
     "execution_count": 3,
     "metadata": {},
     "output_type": "execute_result"
    }
   ],
   "source": [
    "stat.mean(x)"
   ]
  },
  {
   "cell_type": "code",
   "execution_count": 4,
   "id": "6c9b8849-b2a4-4936-aa01-a84fb408de8e",
   "metadata": {},
   "outputs": [
    {
     "data": {
      "text/plain": [
       "np.float64(1.6071428571428572)"
      ]
     },
     "execution_count": 4,
     "metadata": {},
     "output_type": "execute_result"
    }
   ],
   "source": [
    "np.mean(x)"
   ]
  },
  {
   "cell_type": "code",
   "execution_count": 5,
   "id": "520f6feb-a893-49e7-aa0e-3617480ea019",
   "metadata": {},
   "outputs": [
    {
     "data": {
      "text/plain": [
       "1.25"
      ]
     },
     "execution_count": 5,
     "metadata": {},
     "output_type": "execute_result"
    }
   ],
   "source": [
    "stat.median(x)"
   ]
  },
  {
   "cell_type": "code",
   "execution_count": 6,
   "id": "4bb346e0-193a-4381-8b7f-dccaf0e32ae5",
   "metadata": {
    "scrolled": true
   },
   "outputs": [
    {
     "data": {
      "text/plain": [
       "1.3720238095238095"
      ]
     },
     "execution_count": 6,
     "metadata": {},
     "output_type": "execute_result"
    }
   ],
   "source": [
    "stat.variance(x)"
   ]
  },
  {
   "cell_type": "code",
   "execution_count": 7,
   "id": "52a71bf4-b4cf-4998-a066-3a1f55d057d5",
   "metadata": {},
   "outputs": [],
   "source": [
    "import math"
   ]
  },
  {
   "cell_type": "code",
   "execution_count": 8,
   "id": "6dda74de-6710-4d4b-ba96-40638c254692",
   "metadata": {},
   "outputs": [
    {
     "data": {
      "text/plain": [
       "24.532530197109352"
      ]
     },
     "execution_count": 8,
     "metadata": {},
     "output_type": "execute_result"
    }
   ],
   "source": [
    "math.exp(3.2)"
   ]
  },
  {
   "cell_type": "code",
   "execution_count": 9,
   "id": "ad417208-bcba-4525-9143-308a2353f9da",
   "metadata": {},
   "outputs": [
    {
     "data": {
      "text/plain": [
       "1.7320508075688772"
      ]
     },
     "execution_count": 9,
     "metadata": {},
     "output_type": "execute_result"
    }
   ],
   "source": [
    "math.sqrt(3)"
   ]
  },
  {
   "cell_type": "code",
   "execution_count": 10,
   "id": "925858c4-c9d8-4330-b394-de592af9edb5",
   "metadata": {},
   "outputs": [
    {
     "data": {
      "text/plain": [
       "0.9092974268256817"
      ]
     },
     "execution_count": 10,
     "metadata": {},
     "output_type": "execute_result"
    }
   ],
   "source": [
    "math.sin(2)"
   ]
  },
  {
   "cell_type": "code",
   "execution_count": 11,
   "id": "103e348e-0def-4980-ac12-d25d3db7a479",
   "metadata": {},
   "outputs": [
    {
     "data": {
      "text/plain": [
       "3.141592653589793"
      ]
     },
     "execution_count": 11,
     "metadata": {},
     "output_type": "execute_result"
    }
   ],
   "source": [
    "math.pi"
   ]
  },
  {
   "cell_type": "markdown",
   "id": "882b2c97-e9f1-45e8-b1e9-1dca408fedaa",
   "metadata": {},
   "source": [
    "## 2. NumPy & Pandas - Temperature time series\n",
    "![sky](../Images/temperature.jpg)\n",
    "\n",
    "*Image modified from Gerd Altmann, Pixabay*\n",
    "\n",
    "**Original dataset:**\n",
    "\n",
    "NOAA National Centers for Environmental information: Climate at a Glance: Global Time Series [Data set]. https://www.ncei.noaa.gov/access/monitoring/climate-at-a-glance/global/time-series, retrieved on August 23, 2024."
   ]
  },
  {
   "cell_type": "markdown",
   "id": "5535d80d-0e32-486f-b397-76b2005fbbba",
   "metadata": {},
   "source": [
    "## 2.1 NumPy"
   ]
  },
  {
   "cell_type": "code",
   "execution_count": 12,
   "id": "c8d6ca3c-b90e-4785-969d-2955e6535166",
   "metadata": {},
   "outputs": [],
   "source": [
    "import numpy as np "
   ]
  },
  {
   "cell_type": "markdown",
   "id": "8a90b669-1d6f-4f5e-92a0-1c55c2cfaec2",
   "metadata": {},
   "source": [
    "Import data as a 2D numpy array:"
   ]
  },
  {
   "cell_type": "code",
   "execution_count": 13,
   "id": "ecc6780e-3a46-42dd-9a49-06eba2c66a49",
   "metadata": {},
   "outputs": [],
   "source": [
    "path = '../Datasets/NOAA_time_series.csv' # Relative path to dataset file\n",
    "time_series = np.loadtxt(path, skiprows=5, delimiter=',')"
   ]
  },
  {
   "cell_type": "code",
   "execution_count": 14,
   "id": "dac5aa2c-99f8-477a-8546-9210df6b2dfe",
   "metadata": {
    "scrolled": true
   },
   "outputs": [
    {
     "data": {
      "text/plain": [
       "array([[ 1.850e+03, -3.000e-02],\n",
       "       [ 1.851e+03,  7.000e-02],\n",
       "       [ 1.852e+03,  8.000e-02],\n",
       "       [ 1.853e+03,  1.300e-01],\n",
       "       [ 1.854e+03,  0.000e+00],\n",
       "       [ 1.855e+03, -1.200e-01],\n",
       "       [ 1.856e+03, -1.400e-01],\n",
       "       [ 1.857e+03, -1.600e-01],\n",
       "       [ 1.858e+03, -1.400e-01],\n",
       "       [ 1.859e+03, -1.300e-01],\n",
       "       [ 1.860e+03, -2.100e-01],\n",
       "       [ 1.861e+03, -1.500e-01],\n",
       "       [ 1.862e+03, -2.700e-01],\n",
       "       [ 1.863e+03, -2.300e-01],\n",
       "       [ 1.864e+03, -9.000e-02],\n",
       "       [ 1.865e+03,  1.000e-02],\n",
       "       [ 1.866e+03,  0.000e+00],\n",
       "       [ 1.867e+03, -1.800e-01],\n",
       "       [ 1.868e+03, -8.000e-02],\n",
       "       [ 1.869e+03, -9.000e-02],\n",
       "       [ 1.870e+03, -2.000e-02],\n",
       "       [ 1.871e+03, -2.000e-02],\n",
       "       [ 1.872e+03, -1.000e-01],\n",
       "       [ 1.873e+03, -8.000e-02],\n",
       "       [ 1.874e+03, -2.300e-01],\n",
       "       [ 1.875e+03, -9.000e-02],\n",
       "       [ 1.876e+03, -1.700e-01],\n",
       "       [ 1.877e+03,  2.900e-01],\n",
       "       [ 1.878e+03,  2.200e-01],\n",
       "       [ 1.879e+03, -1.000e-02],\n",
       "       [ 1.880e+03, -2.100e-01],\n",
       "       [ 1.881e+03,  0.000e+00],\n",
       "       [ 1.882e+03, -2.100e-01],\n",
       "       [ 1.883e+03, -8.000e-02],\n",
       "       [ 1.884e+03, -3.300e-01],\n",
       "       [ 1.885e+03, -2.600e-01],\n",
       "       [ 1.886e+03, -1.800e-01],\n",
       "       [ 1.887e+03, -2.600e-01],\n",
       "       [ 1.888e+03, -1.000e-02],\n",
       "       [ 1.889e+03, -7.000e-02],\n",
       "       [ 1.890e+03, -2.600e-01],\n",
       "       [ 1.891e+03, -1.100e-01],\n",
       "       [ 1.892e+03, -3.200e-01],\n",
       "       [ 1.893e+03, -2.000e-01],\n",
       "       [ 1.894e+03, -2.100e-01],\n",
       "       [ 1.895e+03, -1.000e-01],\n",
       "       [ 1.896e+03, -7.000e-02],\n",
       "       [ 1.897e+03, -2.000e-02],\n",
       "       [ 1.898e+03, -1.200e-01],\n",
       "       [ 1.899e+03, -1.000e-01],\n",
       "       [ 1.900e+03, -9.000e-02],\n",
       "       [ 1.901e+03, -1.100e-01],\n",
       "       [ 1.902e+03, -1.700e-01],\n",
       "       [ 1.903e+03, -3.600e-01],\n",
       "       [ 1.904e+03, -4.300e-01],\n",
       "       [ 1.905e+03, -1.600e-01],\n",
       "       [ 1.906e+03, -1.300e-01],\n",
       "       [ 1.907e+03, -2.900e-01],\n",
       "       [ 1.908e+03, -3.300e-01],\n",
       "       [ 1.909e+03, -4.200e-01],\n",
       "       [ 1.910e+03, -2.900e-01],\n",
       "       [ 1.911e+03, -4.100e-01],\n",
       "       [ 1.912e+03, -3.600e-01],\n",
       "       [ 1.913e+03, -3.400e-01],\n",
       "       [ 1.914e+03, -2.100e-01],\n",
       "       [ 1.915e+03, -5.000e-02],\n",
       "       [ 1.916e+03, -3.100e-01],\n",
       "       [ 1.917e+03, -1.800e-01],\n",
       "       [ 1.918e+03, -2.700e-01],\n",
       "       [ 1.919e+03, -2.600e-01],\n",
       "       [ 1.920e+03, -2.900e-01],\n",
       "       [ 1.921e+03, -1.200e-01],\n",
       "       [ 1.922e+03, -2.900e-01],\n",
       "       [ 1.923e+03, -3.100e-01],\n",
       "       [ 1.924e+03, -3.000e-01],\n",
       "       [ 1.925e+03, -2.200e-01],\n",
       "       [ 1.926e+03, -2.200e-01],\n",
       "       [ 1.927e+03, -1.700e-01],\n",
       "       [ 1.928e+03, -1.900e-01],\n",
       "       [ 1.929e+03, -3.700e-01],\n",
       "       [ 1.930e+03, -8.000e-02],\n",
       "       [ 1.931e+03, -1.000e-02],\n",
       "       [ 1.932e+03, -2.100e-01],\n",
       "       [ 1.933e+03, -2.300e-01],\n",
       "       [ 1.934e+03, -9.000e-02],\n",
       "       [ 1.935e+03, -1.100e-01],\n",
       "       [ 1.936e+03, -4.000e-02],\n",
       "       [ 1.937e+03, -2.000e-02],\n",
       "       [ 1.938e+03, -2.000e-02],\n",
       "       [ 1.939e+03,  4.000e-02],\n",
       "       [ 1.940e+03,  1.000e-01],\n",
       "       [ 1.941e+03,  2.100e-01],\n",
       "       [ 1.942e+03,  2.000e-02],\n",
       "       [ 1.943e+03,  9.000e-02],\n",
       "       [ 1.944e+03,  1.600e-01],\n",
       "       [ 1.945e+03,  1.100e-01],\n",
       "       [ 1.946e+03, -1.000e-01],\n",
       "       [ 1.947e+03,  0.000e+00],\n",
       "       [ 1.948e+03, -3.000e-02],\n",
       "       [ 1.949e+03, -7.000e-02],\n",
       "       [ 1.950e+03, -6.000e-02],\n",
       "       [ 1.951e+03,  4.000e-02],\n",
       "       [ 1.952e+03,  6.000e-02],\n",
       "       [ 1.953e+03,  0.000e+00],\n",
       "       [ 1.954e+03, -8.000e-02],\n",
       "       [ 1.955e+03, -9.000e-02],\n",
       "       [ 1.956e+03, -1.000e-01],\n",
       "       [ 1.957e+03,  7.000e-02],\n",
       "       [ 1.958e+03,  1.200e-01],\n",
       "       [ 1.959e+03,  9.000e-02],\n",
       "       [ 1.960e+03,  1.000e-02],\n",
       "       [ 1.961e+03,  7.000e-02],\n",
       "       [ 1.962e+03,  3.000e-02],\n",
       "       [ 1.963e+03,  8.000e-02],\n",
       "       [ 1.964e+03, -3.000e-02],\n",
       "       [ 1.965e+03, -7.000e-02],\n",
       "       [ 1.966e+03,  1.300e-01],\n",
       "       [ 1.967e+03,  2.000e-02],\n",
       "       [ 1.968e+03, -9.000e-02],\n",
       "       [ 1.969e+03,  3.000e-02],\n",
       "       [ 1.970e+03,  5.000e-02],\n",
       "       [ 1.971e+03, -3.000e-02],\n",
       "       [ 1.972e+03,  7.000e-02],\n",
       "       [ 1.973e+03,  1.500e-01],\n",
       "       [ 1.974e+03,  1.000e-02],\n",
       "       [ 1.975e+03,  2.000e-02],\n",
       "       [ 1.976e+03,  0.000e+00],\n",
       "       [ 1.977e+03,  2.200e-01],\n",
       "       [ 1.978e+03,  8.000e-02],\n",
       "       [ 1.979e+03,  1.200e-01],\n",
       "       [ 1.980e+03,  3.100e-01],\n",
       "       [ 1.981e+03,  3.200e-01],\n",
       "       [ 1.982e+03,  1.800e-01],\n",
       "       [ 1.983e+03,  2.300e-01],\n",
       "       [ 1.984e+03,  1.700e-01],\n",
       "       [ 1.985e+03,  4.000e-02],\n",
       "       [ 1.986e+03,  1.700e-01],\n",
       "       [ 1.987e+03,  4.800e-01],\n",
       "       [ 1.988e+03,  3.600e-01],\n",
       "       [ 1.989e+03,  3.000e-01],\n",
       "       [ 1.990e+03,  4.100e-01],\n",
       "       [ 1.991e+03,  4.800e-01],\n",
       "       [ 1.992e+03,  1.400e-01],\n",
       "       [ 1.993e+03,  2.600e-01],\n",
       "       [ 1.994e+03,  3.200e-01],\n",
       "       [ 1.995e+03,  4.900e-01],\n",
       "       [ 1.996e+03,  3.700e-01],\n",
       "       [ 1.997e+03,  4.200e-01],\n",
       "       [ 1.998e+03,  7.000e-01],\n",
       "       [ 1.999e+03,  3.800e-01],\n",
       "       [ 2.000e+03,  4.000e-01],\n",
       "       [ 2.001e+03,  6.200e-01],\n",
       "       [ 2.002e+03,  6.400e-01],\n",
       "       [ 2.003e+03,  5.700e-01],\n",
       "       [ 2.004e+03,  3.600e-01],\n",
       "       [ 2.005e+03,  6.400e-01],\n",
       "       [ 2.006e+03,  5.600e-01],\n",
       "       [ 2.007e+03,  5.900e-01],\n",
       "       [ 2.008e+03,  5.900e-01],\n",
       "       [ 2.009e+03,  7.400e-01],\n",
       "       [ 2.010e+03,  6.700e-01],\n",
       "       [ 2.011e+03,  7.000e-01],\n",
       "       [ 2.012e+03,  6.300e-01],\n",
       "       [ 2.013e+03,  6.200e-01],\n",
       "       [ 2.014e+03,  6.500e-01],\n",
       "       [ 2.015e+03,  7.900e-01],\n",
       "       [ 2.016e+03,  8.700e-01],\n",
       "       [ 2.017e+03,  8.500e-01],\n",
       "       [ 2.018e+03,  8.400e-01],\n",
       "       [ 2.019e+03,  9.200e-01],\n",
       "       [ 2.020e+03,  9.100e-01],\n",
       "       [ 2.021e+03,  9.000e-01],\n",
       "       [ 2.022e+03,  9.000e-01],\n",
       "       [ 2.023e+03,  1.180e+00],\n",
       "       [ 2.024e+03,  1.210e+00]])"
      ]
     },
     "execution_count": 14,
     "metadata": {},
     "output_type": "execute_result"
    }
   ],
   "source": [
    "time_series"
   ]
  },
  {
   "cell_type": "markdown",
   "id": "a81adfac-0cea-4e53-86c4-9a6eef8d6440",
   "metadata": {},
   "source": [
    "Data selection: Selecting the last 30 years of data from the time series corresponds to selecting the last 30 elements of the time series."
   ]
  },
  {
   "cell_type": "code",
   "execution_count": 15,
   "id": "8d376406-7484-4080-9c0e-b0c9b048301a",
   "metadata": {
    "scrolled": true
   },
   "outputs": [
    {
     "data": {
      "text/plain": [
       "array([[1.995e+03, 4.900e-01],\n",
       "       [1.996e+03, 3.700e-01],\n",
       "       [1.997e+03, 4.200e-01],\n",
       "       [1.998e+03, 7.000e-01],\n",
       "       [1.999e+03, 3.800e-01],\n",
       "       [2.000e+03, 4.000e-01],\n",
       "       [2.001e+03, 6.200e-01],\n",
       "       [2.002e+03, 6.400e-01],\n",
       "       [2.003e+03, 5.700e-01],\n",
       "       [2.004e+03, 3.600e-01],\n",
       "       [2.005e+03, 6.400e-01],\n",
       "       [2.006e+03, 5.600e-01],\n",
       "       [2.007e+03, 5.900e-01],\n",
       "       [2.008e+03, 5.900e-01],\n",
       "       [2.009e+03, 7.400e-01],\n",
       "       [2.010e+03, 6.700e-01],\n",
       "       [2.011e+03, 7.000e-01],\n",
       "       [2.012e+03, 6.300e-01],\n",
       "       [2.013e+03, 6.200e-01],\n",
       "       [2.014e+03, 6.500e-01],\n",
       "       [2.015e+03, 7.900e-01],\n",
       "       [2.016e+03, 8.700e-01],\n",
       "       [2.017e+03, 8.500e-01],\n",
       "       [2.018e+03, 8.400e-01],\n",
       "       [2.019e+03, 9.200e-01],\n",
       "       [2.020e+03, 9.100e-01],\n",
       "       [2.021e+03, 9.000e-01],\n",
       "       [2.022e+03, 9.000e-01],\n",
       "       [2.023e+03, 1.180e+00],\n",
       "       [2.024e+03, 1.210e+00]])"
      ]
     },
     "execution_count": 15,
     "metadata": {},
     "output_type": "execute_result"
    }
   ],
   "source": [
    "time_series[-30:, :]"
   ]
  },
  {
   "cell_type": "markdown",
   "id": "a34e111f-2074-468e-9eb5-4d28bc63b1cd",
   "metadata": {},
   "source": [
    "However, selecting elements from a NumPy array based on the values in a specific column is also possible using boolean indexing:"
   ]
  },
  {
   "cell_type": "code",
   "execution_count": 16,
   "id": "89015e73-02c8-4380-8195-a5fae4ac6b1c",
   "metadata": {},
   "outputs": [],
   "source": [
    "mask = time_series[:, 0] > 1995"
   ]
  },
  {
   "cell_type": "code",
   "execution_count": 17,
   "id": "4fbf9cb8-e653-4fac-9bfb-02e880350f10",
   "metadata": {},
   "outputs": [
    {
     "data": {
      "text/plain": [
       "array([False, False, False, False, False, False, False, False, False,\n",
       "       False, False, False, False, False, False, False, False, False,\n",
       "       False, False, False, False, False, False, False, False, False,\n",
       "       False, False, False, False, False, False, False, False, False,\n",
       "       False, False, False, False, False, False, False, False, False,\n",
       "       False, False, False, False, False, False, False, False, False,\n",
       "       False, False, False, False, False, False, False, False, False,\n",
       "       False, False, False, False, False, False, False, False, False,\n",
       "       False, False, False, False, False, False, False, False, False,\n",
       "       False, False, False, False, False, False, False, False, False,\n",
       "       False, False, False, False, False, False, False, False, False,\n",
       "       False, False, False, False, False, False, False, False, False,\n",
       "       False, False, False, False, False, False, False, False, False,\n",
       "       False, False, False, False, False, False, False, False, False,\n",
       "       False, False, False, False, False, False, False, False, False,\n",
       "       False, False, False, False, False, False, False, False, False,\n",
       "       False, False,  True,  True,  True,  True,  True,  True,  True,\n",
       "        True,  True,  True,  True,  True,  True,  True,  True,  True,\n",
       "        True,  True,  True,  True,  True,  True,  True,  True,  True,\n",
       "        True,  True,  True,  True])"
      ]
     },
     "execution_count": 17,
     "metadata": {},
     "output_type": "execute_result"
    }
   ],
   "source": [
    "mask"
   ]
  },
  {
   "cell_type": "code",
   "execution_count": 18,
   "id": "5cef423b-4130-4a4f-9d2a-e02699681118",
   "metadata": {},
   "outputs": [],
   "source": [
    "filtered_data = time_series[mask]"
   ]
  },
  {
   "cell_type": "code",
   "execution_count": 19,
   "id": "2d5b861b-19e1-4e61-9cd3-9e75e6911114",
   "metadata": {},
   "outputs": [
    {
     "data": {
      "text/plain": [
       "array([[1.996e+03, 3.700e-01],\n",
       "       [1.997e+03, 4.200e-01],\n",
       "       [1.998e+03, 7.000e-01],\n",
       "       [1.999e+03, 3.800e-01],\n",
       "       [2.000e+03, 4.000e-01],\n",
       "       [2.001e+03, 6.200e-01],\n",
       "       [2.002e+03, 6.400e-01],\n",
       "       [2.003e+03, 5.700e-01],\n",
       "       [2.004e+03, 3.600e-01],\n",
       "       [2.005e+03, 6.400e-01],\n",
       "       [2.006e+03, 5.600e-01],\n",
       "       [2.007e+03, 5.900e-01],\n",
       "       [2.008e+03, 5.900e-01],\n",
       "       [2.009e+03, 7.400e-01],\n",
       "       [2.010e+03, 6.700e-01],\n",
       "       [2.011e+03, 7.000e-01],\n",
       "       [2.012e+03, 6.300e-01],\n",
       "       [2.013e+03, 6.200e-01],\n",
       "       [2.014e+03, 6.500e-01],\n",
       "       [2.015e+03, 7.900e-01],\n",
       "       [2.016e+03, 8.700e-01],\n",
       "       [2.017e+03, 8.500e-01],\n",
       "       [2.018e+03, 8.400e-01],\n",
       "       [2.019e+03, 9.200e-01],\n",
       "       [2.020e+03, 9.100e-01],\n",
       "       [2.021e+03, 9.000e-01],\n",
       "       [2.022e+03, 9.000e-01],\n",
       "       [2.023e+03, 1.180e+00],\n",
       "       [2.024e+03, 1.210e+00]])"
      ]
     },
     "execution_count": 19,
     "metadata": {},
     "output_type": "execute_result"
    }
   ],
   "source": [
    "filtered_data"
   ]
  },
  {
   "cell_type": "markdown",
   "id": "8d40dd80-af29-425d-b6cb-e65d7320a0c5",
   "metadata": {},
   "source": [
    "Mathematical operations:"
   ]
  },
  {
   "cell_type": "code",
   "execution_count": 20,
   "id": "d23cec63-9780-46f4-89cd-681adae633fc",
   "metadata": {},
   "outputs": [
    {
     "data": {
      "text/plain": [
       "np.float64(0.07319999999999999)"
      ]
     },
     "execution_count": 20,
     "metadata": {},
     "output_type": "execute_result"
    }
   ],
   "source": [
    "np.mean(time_series[:, 1])"
   ]
  },
  {
   "cell_type": "markdown",
   "id": "bae56520-b8be-4235-9c06-23a4c32f9dd7",
   "metadata": {},
   "source": [
    "**Exercise:** Convert temperature unit °C to Kelvin. "
   ]
  },
  {
   "cell_type": "code",
   "execution_count": 21,
   "id": "b4ae4a08-5e77-4add-8bc2-f8fa6a2781dd",
   "metadata": {},
   "outputs": [
    {
     "data": {
      "text/plain": [
       "array([273.12, 273.22, 273.23, 273.28, 273.15, 273.03, 273.01, 272.99,\n",
       "       273.01, 273.02, 272.94, 273.  , 272.88, 272.92, 273.06, 273.16,\n",
       "       273.15, 272.97, 273.07, 273.06, 273.13, 273.13, 273.05, 273.07,\n",
       "       272.92, 273.06, 272.98, 273.44, 273.37, 273.14, 272.94, 273.15,\n",
       "       272.94, 273.07, 272.82, 272.89, 272.97, 272.89, 273.14, 273.08,\n",
       "       272.89, 273.04, 272.83, 272.95, 272.94, 273.05, 273.08, 273.13,\n",
       "       273.03, 273.05, 273.06, 273.04, 272.98, 272.79, 272.72, 272.99,\n",
       "       273.02, 272.86, 272.82, 272.73, 272.86, 272.74, 272.79, 272.81,\n",
       "       272.94, 273.1 , 272.84, 272.97, 272.88, 272.89, 272.86, 273.03,\n",
       "       272.86, 272.84, 272.85, 272.93, 272.93, 272.98, 272.96, 272.78,\n",
       "       273.07, 273.14, 272.94, 272.92, 273.06, 273.04, 273.11, 273.13,\n",
       "       273.13, 273.19, 273.25, 273.36, 273.17, 273.24, 273.31, 273.26,\n",
       "       273.05, 273.15, 273.12, 273.08, 273.09, 273.19, 273.21, 273.15,\n",
       "       273.07, 273.06, 273.05, 273.22, 273.27, 273.24, 273.16, 273.22,\n",
       "       273.18, 273.23, 273.12, 273.08, 273.28, 273.17, 273.06, 273.18,\n",
       "       273.2 , 273.12, 273.22, 273.3 , 273.16, 273.17, 273.15, 273.37,\n",
       "       273.23, 273.27, 273.46, 273.47, 273.33, 273.38, 273.32, 273.19,\n",
       "       273.32, 273.63, 273.51, 273.45, 273.56, 273.63, 273.29, 273.41,\n",
       "       273.47, 273.64, 273.52, 273.57, 273.85, 273.53, 273.55, 273.77,\n",
       "       273.79, 273.72, 273.51, 273.79, 273.71, 273.74, 273.74, 273.89,\n",
       "       273.82, 273.85, 273.78, 273.77, 273.8 , 273.94, 274.02, 274.  ,\n",
       "       273.99, 274.07, 274.06, 274.05, 274.05, 274.33, 274.36])"
      ]
     },
     "execution_count": 21,
     "metadata": {},
     "output_type": "execute_result"
    }
   ],
   "source": [
    "time_series[:, 1] + 273.15"
   ]
  },
  {
   "cell_type": "markdown",
   "id": "413a000e-f831-4001-a624-e996551052d6",
   "metadata": {},
   "source": [
    "Plot:"
   ]
  },
  {
   "cell_type": "code",
   "execution_count": 22,
   "id": "b1c42b82-fb8d-4c16-a791-62f15f384e80",
   "metadata": {},
   "outputs": [],
   "source": [
    "import matplotlib.pyplot as plt"
   ]
  },
  {
   "cell_type": "code",
   "execution_count": 24,
   "id": "b70a15a5-6eb8-4d29-a213-b64429d0c00a",
   "metadata": {},
   "outputs": [
    {
     "data": {
      "image/png": "[encoded data removed]",
      "text/plain": [
       "<Figure size 1000x500 with 1 Axes>"
      ]
     },
     "metadata": {},
     "output_type": "display_data"
    }
   ],
   "source": [
    "plt.figure(figsize=(10, 5))\n",
    "plt.plot(time_series[:, 0], time_series[:, 1])  # Plot Year vs. Anomaly\n",
    "plt.plot(filtered_data[:, 0], filtered_data[:, 1], color='r')  # years after 1995\n",
    "plt.xlabel('Year')\n",
    "plt.ylabel('Anomaly (°C)')\n",
    "plt.show()"
   ]
  },
  {
   "cell_type": "markdown",
   "id": "4c110995-5beb-4325-a73d-07126cd192f9",
   "metadata": {},
   "source": [
    "## 2.2 Pandas"
   ]
  },
  {
   "cell_type": "code",
   "execution_count": 25,
   "id": "7f20a8e6-72eb-42f9-a609-facdbea9bb11",
   "metadata": {},
   "outputs": [],
   "source": [
    "import pandas as pd"
   ]
  },
  {
   "cell_type": "markdown",
   "id": "98173cdc-54ba-44ff-bec9-e614d995fe6f",
   "metadata": {},
   "source": [
    "(Re)Import data in DataFrame:"
   ]
  },
  {
   "cell_type": "code",
   "execution_count": 26,
   "id": "3aaec591-eb47-4adc-b81d-6b81fa6d7bd2",
   "metadata": {},
   "outputs": [],
   "source": [
    "path = '../Datasets/NOAA_time_series.csv' # Relative path to dataset file\n",
    "time_series = pd.read_csv(path, skiprows=4, delimiter=',')"
   ]
  },
  {
   "cell_type": "markdown",
   "id": "85b900b6-d8ec-4094-af8d-a9de290b5201",
   "metadata": {},
   "source": [
    "Investigate DataFrame structure:"
   ]
  },
  {
   "cell_type": "code",
   "execution_count": 27,
   "id": "dff2c8a8-ae6c-40c1-bc6f-f3b2e5da824d",
   "metadata": {},
   "outputs": [
    {
     "data": {
      "text/html": [
       "<div>\n",
       "<style scoped>\n",
       "    .dataframe tbody tr th:only-of-type {\n",
       "        vertical-align: middle;\n",
       "    }\n",
       "\n",
       "    .dataframe tbody tr th {\n",
       "        vertical-align: top;\n",
       "    }\n",
       "\n",
       "    .dataframe thead th {\n",
       "        text-align: right;\n",
       "    }\n",
       "</style>\n",
       "<table border=\"1\" class=\"dataframe\">\n",
       "  <thead>\n",
       "    <tr style=\"text-align: right;\">\n",
       "      <th></th>\n",
       "      <th>Year</th>\n",
       "      <th>Anomaly</th>\n",
       "    </tr>\n",
       "  </thead>\n",
       "  <tbody>\n",
       "    <tr>\n",
       "      <th>0</th>\n",
       "      <td>1850</td>\n",
       "      <td>-0.03</td>\n",
       "    </tr>\n",
       "    <tr>\n",
       "      <th>1</th>\n",
       "      <td>1851</td>\n",
       "      <td>0.07</td>\n",
       "    </tr>\n",
       "    <tr>\n",
       "      <th>2</th>\n",
       "      <td>1852</td>\n",
       "      <td>0.08</td>\n",
       "    </tr>\n",
       "    <tr>\n",
       "      <th>3</th>\n",
       "      <td>1853</td>\n",
       "      <td>0.13</td>\n",
       "    </tr>\n",
       "    <tr>\n",
       "      <th>4</th>\n",
       "      <td>1854</td>\n",
       "      <td>0.00</td>\n",
       "    </tr>\n",
       "  </tbody>\n",
       "</table>\n",
       "</div>"
      ],
      "text/plain": [
       "   Year  Anomaly\n",
       "0  1850    -0.03\n",
       "1  1851     0.07\n",
       "2  1852     0.08\n",
       "3  1853     0.13\n",
       "4  1854     0.00"
      ]
     },
     "execution_count": 27,
     "metadata": {},
     "output_type": "execute_result"
    }
   ],
   "source": [
    "time_series.head()"
   ]
  },
  {
   "cell_type": "code",
   "execution_count": 28,
   "id": "c93b0632-39bb-42a8-8f51-42198254aeb5",
   "metadata": {},
   "outputs": [
    {
     "data": {
      "text/plain": [
       "RangeIndex(start=0, stop=175, step=1)"
      ]
     },
     "execution_count": 28,
     "metadata": {},
     "output_type": "execute_result"
    }
   ],
   "source": [
    "time_series.index"
   ]
  },
  {
   "cell_type": "code",
   "execution_count": 29,
   "id": "2eba1924-7180-49ae-aeef-fe031c6b6b54",
   "metadata": {},
   "outputs": [
    {
     "data": {
      "text/plain": [
       "Index(['Year', 'Anomaly'], dtype='object')"
      ]
     },
     "execution_count": 29,
     "metadata": {},
     "output_type": "execute_result"
    }
   ],
   "source": [
    "time_series.columns"
   ]
  },
  {
   "cell_type": "code",
   "execution_count": 30,
   "id": "177bfcae-417d-41b1-bda1-0a414cfc7d2f",
   "metadata": {},
   "outputs": [
    {
     "data": {
      "text/plain": [
       "Year         int64\n",
       "Anomaly    float64\n",
       "dtype: object"
      ]
     },
     "execution_count": 30,
     "metadata": {},
     "output_type": "execute_result"
    }
   ],
   "source": [
    "time_series.dtypes"
   ]
  },
  {
   "cell_type": "markdown",
   "id": "b3eb11ed-12ab-40b3-85f7-dd44d674bc87",
   "metadata": {},
   "source": [
    "Data selection:"
   ]
  },
  {
   "cell_type": "code",
   "execution_count": 31,
   "id": "d126f7f3-9871-42f0-942b-cf5f4988491a",
   "metadata": {},
   "outputs": [
    {
     "data": {
      "text/html": [
       "<div>\n",
       "<style scoped>\n",
       "    .dataframe tbody tr th:only-of-type {\n",
       "        vertical-align: middle;\n",
       "    }\n",
       "\n",
       "    .dataframe tbody tr th {\n",
       "        vertical-align: top;\n",
       "    }\n",
       "\n",
       "    .dataframe thead th {\n",
       "        text-align: right;\n",
       "    }\n",
       "</style>\n",
       "<table border=\"1\" class=\"dataframe\">\n",
       "  <thead>\n",
       "    <tr style=\"text-align: right;\">\n",
       "      <th></th>\n",
       "      <th>Year</th>\n",
       "      <th>Anomaly</th>\n",
       "    </tr>\n",
       "  </thead>\n",
       "  <tbody>\n",
       "    <tr>\n",
       "      <th>0</th>\n",
       "      <td>1850</td>\n",
       "      <td>-0.03</td>\n",
       "    </tr>\n",
       "    <tr>\n",
       "      <th>1</th>\n",
       "      <td>1851</td>\n",
       "      <td>0.07</td>\n",
       "    </tr>\n",
       "    <tr>\n",
       "      <th>2</th>\n",
       "      <td>1852</td>\n",
       "      <td>0.08</td>\n",
       "    </tr>\n",
       "    <tr>\n",
       "      <th>3</th>\n",
       "      <td>1853</td>\n",
       "      <td>0.13</td>\n",
       "    </tr>\n",
       "    <tr>\n",
       "      <th>4</th>\n",
       "      <td>1854</td>\n",
       "      <td>0.00</td>\n",
       "    </tr>\n",
       "  </tbody>\n",
       "</table>\n",
       "</div>"
      ],
      "text/plain": [
       "   Year  Anomaly\n",
       "0  1850    -0.03\n",
       "1  1851     0.07\n",
       "2  1852     0.08\n",
       "3  1853     0.13\n",
       "4  1854     0.00"
      ]
     },
     "execution_count": 31,
     "metadata": {},
     "output_type": "execute_result"
    }
   ],
   "source": [
    "time_series.loc[0:4,:]"
   ]
  },
  {
   "cell_type": "code",
   "execution_count": 32,
   "id": "5aecab58-a26e-4f72-8284-54e4f6d56ed4",
   "metadata": {},
   "outputs": [],
   "source": [
    "time_series_selection = time_series.loc[time_series['Year'] >= 1994,:]"
   ]
  },
  {
   "cell_type": "code",
   "execution_count": 33,
   "id": "d181ade0-6d83-4946-940a-ce474db3ba0a",
   "metadata": {},
   "outputs": [
    {
     "data": {
      "text/html": [
       "<div>\n",
       "<style scoped>\n",
       "    .dataframe tbody tr th:only-of-type {\n",
       "        vertical-align: middle;\n",
       "    }\n",
       "\n",
       "    .dataframe tbody tr th {\n",
       "        vertical-align: top;\n",
       "    }\n",
       "\n",
       "    .dataframe thead th {\n",
       "        text-align: right;\n",
       "    }\n",
       "</style>\n",
       "<table border=\"1\" class=\"dataframe\">\n",
       "  <thead>\n",
       "    <tr style=\"text-align: right;\">\n",
       "      <th></th>\n",
       "      <th>Year</th>\n",
       "      <th>Anomaly</th>\n",
       "    </tr>\n",
       "  </thead>\n",
       "  <tbody>\n",
       "    <tr>\n",
       "      <th>144</th>\n",
       "      <td>1994</td>\n",
       "      <td>0.32</td>\n",
       "    </tr>\n",
       "    <tr>\n",
       "      <th>145</th>\n",
       "      <td>1995</td>\n",
       "      <td>0.49</td>\n",
       "    </tr>\n",
       "    <tr>\n",
       "      <th>146</th>\n",
       "      <td>1996</td>\n",
       "      <td>0.37</td>\n",
       "    </tr>\n",
       "    <tr>\n",
       "      <th>147</th>\n",
       "      <td>1997</td>\n",
       "      <td>0.42</td>\n",
       "    </tr>\n",
       "    <tr>\n",
       "      <th>148</th>\n",
       "      <td>1998</td>\n",
       "      <td>0.70</td>\n",
       "    </tr>\n",
       "    <tr>\n",
       "      <th>149</th>\n",
       "      <td>1999</td>\n",
       "      <td>0.38</td>\n",
       "    </tr>\n",
       "    <tr>\n",
       "      <th>150</th>\n",
       "      <td>2000</td>\n",
       "      <td>0.40</td>\n",
       "    </tr>\n",
       "    <tr>\n",
       "      <th>151</th>\n",
       "      <td>2001</td>\n",
       "      <td>0.62</td>\n",
       "    </tr>\n",
       "    <tr>\n",
       "      <th>152</th>\n",
       "      <td>2002</td>\n",
       "      <td>0.64</td>\n",
       "    </tr>\n",
       "    <tr>\n",
       "      <th>153</th>\n",
       "      <td>2003</td>\n",
       "      <td>0.57</td>\n",
       "    </tr>\n",
       "    <tr>\n",
       "      <th>154</th>\n",
       "      <td>2004</td>\n",
       "      <td>0.36</td>\n",
       "    </tr>\n",
       "    <tr>\n",
       "      <th>155</th>\n",
       "      <td>2005</td>\n",
       "      <td>0.64</td>\n",
       "    </tr>\n",
       "    <tr>\n",
       "      <th>156</th>\n",
       "      <td>2006</td>\n",
       "      <td>0.56</td>\n",
       "    </tr>\n",
       "    <tr>\n",
       "      <th>157</th>\n",
       "      <td>2007</td>\n",
       "      <td>0.59</td>\n",
       "    </tr>\n",
       "    <tr>\n",
       "      <th>158</th>\n",
       "      <td>2008</td>\n",
       "      <td>0.59</td>\n",
       "    </tr>\n",
       "    <tr>\n",
       "      <th>159</th>\n",
       "      <td>2009</td>\n",
       "      <td>0.74</td>\n",
       "    </tr>\n",
       "    <tr>\n",
       "      <th>160</th>\n",
       "      <td>2010</td>\n",
       "      <td>0.67</td>\n",
       "    </tr>\n",
       "    <tr>\n",
       "      <th>161</th>\n",
       "      <td>2011</td>\n",
       "      <td>0.70</td>\n",
       "    </tr>\n",
       "    <tr>\n",
       "      <th>162</th>\n",
       "      <td>2012</td>\n",
       "      <td>0.63</td>\n",
       "    </tr>\n",
       "    <tr>\n",
       "      <th>163</th>\n",
       "      <td>2013</td>\n",
       "      <td>0.62</td>\n",
       "    </tr>\n",
       "    <tr>\n",
       "      <th>164</th>\n",
       "      <td>2014</td>\n",
       "      <td>0.65</td>\n",
       "    </tr>\n",
       "    <tr>\n",
       "      <th>165</th>\n",
       "      <td>2015</td>\n",
       "      <td>0.79</td>\n",
       "    </tr>\n",
       "    <tr>\n",
       "      <th>166</th>\n",
       "      <td>2016</td>\n",
       "      <td>0.87</td>\n",
       "    </tr>\n",
       "    <tr>\n",
       "      <th>167</th>\n",
       "      <td>2017</td>\n",
       "      <td>0.85</td>\n",
       "    </tr>\n",
       "    <tr>\n",
       "      <th>168</th>\n",
       "      <td>2018</td>\n",
       "      <td>0.84</td>\n",
       "    </tr>\n",
       "    <tr>\n",
       "      <th>169</th>\n",
       "      <td>2019</td>\n",
       "      <td>0.92</td>\n",
       "    </tr>\n",
       "    <tr>\n",
       "      <th>170</th>\n",
       "      <td>2020</td>\n",
       "      <td>0.91</td>\n",
       "    </tr>\n",
       "    <tr>\n",
       "      <th>171</th>\n",
       "      <td>2021</td>\n",
       "      <td>0.90</td>\n",
       "    </tr>\n",
       "    <tr>\n",
       "      <th>172</th>\n",
       "      <td>2022</td>\n",
       "      <td>0.90</td>\n",
       "    </tr>\n",
       "    <tr>\n",
       "      <th>173</th>\n",
       "      <td>2023</td>\n",
       "      <td>1.18</td>\n",
       "    </tr>\n",
       "    <tr>\n",
       "      <th>174</th>\n",
       "      <td>2024</td>\n",
       "      <td>1.21</td>\n",
       "    </tr>\n",
       "  </tbody>\n",
       "</table>\n",
       "</div>"
      ],
      "text/plain": [
       "     Year  Anomaly\n",
       "144  1994     0.32\n",
       "145  1995     0.49\n",
       "146  1996     0.37\n",
       "147  1997     0.42\n",
       "148  1998     0.70\n",
       "149  1999     0.38\n",
       "150  2000     0.40\n",
       "151  2001     0.62\n",
       "152  2002     0.64\n",
       "153  2003     0.57\n",
       "154  2004     0.36\n",
       "155  2005     0.64\n",
       "156  2006     0.56\n",
       "157  2007     0.59\n",
       "158  2008     0.59\n",
       "159  2009     0.74\n",
       "160  2010     0.67\n",
       "161  2011     0.70\n",
       "162  2012     0.63\n",
       "163  2013     0.62\n",
       "164  2014     0.65\n",
       "165  2015     0.79\n",
       "166  2016     0.87\n",
       "167  2017     0.85\n",
       "168  2018     0.84\n",
       "169  2019     0.92\n",
       "170  2020     0.91\n",
       "171  2021     0.90\n",
       "172  2022     0.90\n",
       "173  2023     1.18\n",
       "174  2024     1.21"
      ]
     },
     "execution_count": 33,
     "metadata": {},
     "output_type": "execute_result"
    }
   ],
   "source": [
    "time_series_selection"
   ]
  },
  {
   "cell_type": "markdown",
   "id": "8c64d190-6075-4751-ae03-2160bde8a3db",
   "metadata": {},
   "source": [
    "Reset index:"
   ]
  },
  {
   "cell_type": "code",
   "execution_count": 34,
   "id": "28cec290-3b3f-4733-afd2-9c01bb4f0ef7",
   "metadata": {},
   "outputs": [],
   "source": [
    "time_series_selection.reset_index(drop=True, inplace=True)"
   ]
  },
  {
   "cell_type": "code",
   "execution_count": 35,
   "id": "0adb9d27-db6b-4d42-ae34-f0fdac664198",
   "metadata": {},
   "outputs": [
    {
     "data": {
      "text/html": [
       "<div>\n",
       "<style scoped>\n",
       "    .dataframe tbody tr th:only-of-type {\n",
       "        vertical-align: middle;\n",
       "    }\n",
       "\n",
       "    .dataframe tbody tr th {\n",
       "        vertical-align: top;\n",
       "    }\n",
       "\n",
       "    .dataframe thead th {\n",
       "        text-align: right;\n",
       "    }\n",
       "</style>\n",
       "<table border=\"1\" class=\"dataframe\">\n",
       "  <thead>\n",
       "    <tr style=\"text-align: right;\">\n",
       "      <th></th>\n",
       "      <th>Year</th>\n",
       "      <th>Anomaly</th>\n",
       "    </tr>\n",
       "  </thead>\n",
       "  <tbody>\n",
       "    <tr>\n",
       "      <th>0</th>\n",
       "      <td>1994</td>\n",
       "      <td>0.32</td>\n",
       "    </tr>\n",
       "    <tr>\n",
       "      <th>1</th>\n",
       "      <td>1995</td>\n",
       "      <td>0.49</td>\n",
       "    </tr>\n",
       "    <tr>\n",
       "      <th>2</th>\n",
       "      <td>1996</td>\n",
       "      <td>0.37</td>\n",
       "    </tr>\n",
       "    <tr>\n",
       "      <th>3</th>\n",
       "      <td>1997</td>\n",
       "      <td>0.42</td>\n",
       "    </tr>\n",
       "    <tr>\n",
       "      <th>4</th>\n",
       "      <td>1998</td>\n",
       "      <td>0.70</td>\n",
       "    </tr>\n",
       "    <tr>\n",
       "      <th>5</th>\n",
       "      <td>1999</td>\n",
       "      <td>0.38</td>\n",
       "    </tr>\n",
       "    <tr>\n",
       "      <th>6</th>\n",
       "      <td>2000</td>\n",
       "      <td>0.40</td>\n",
       "    </tr>\n",
       "    <tr>\n",
       "      <th>7</th>\n",
       "      <td>2001</td>\n",
       "      <td>0.62</td>\n",
       "    </tr>\n",
       "    <tr>\n",
       "      <th>8</th>\n",
       "      <td>2002</td>\n",
       "      <td>0.64</td>\n",
       "    </tr>\n",
       "    <tr>\n",
       "      <th>9</th>\n",
       "      <td>2003</td>\n",
       "      <td>0.57</td>\n",
       "    </tr>\n",
       "    <tr>\n",
       "      <th>10</th>\n",
       "      <td>2004</td>\n",
       "      <td>0.36</td>\n",
       "    </tr>\n",
       "    <tr>\n",
       "      <th>11</th>\n",
       "      <td>2005</td>\n",
       "      <td>0.64</td>\n",
       "    </tr>\n",
       "    <tr>\n",
       "      <th>12</th>\n",
       "      <td>2006</td>\n",
       "      <td>0.56</td>\n",
       "    </tr>\n",
       "    <tr>\n",
       "      <th>13</th>\n",
       "      <td>2007</td>\n",
       "      <td>0.59</td>\n",
       "    </tr>\n",
       "    <tr>\n",
       "      <th>14</th>\n",
       "      <td>2008</td>\n",
       "      <td>0.59</td>\n",
       "    </tr>\n",
       "    <tr>\n",
       "      <th>15</th>\n",
       "      <td>2009</td>\n",
       "      <td>0.74</td>\n",
       "    </tr>\n",
       "    <tr>\n",
       "      <th>16</th>\n",
       "      <td>2010</td>\n",
       "      <td>0.67</td>\n",
       "    </tr>\n",
       "    <tr>\n",
       "      <th>17</th>\n",
       "      <td>2011</td>\n",
       "      <td>0.70</td>\n",
       "    </tr>\n",
       "    <tr>\n",
       "      <th>18</th>\n",
       "      <td>2012</td>\n",
       "      <td>0.63</td>\n",
       "    </tr>\n",
       "    <tr>\n",
       "      <th>19</th>\n",
       "      <td>2013</td>\n",
       "      <td>0.62</td>\n",
       "    </tr>\n",
       "    <tr>\n",
       "      <th>20</th>\n",
       "      <td>2014</td>\n",
       "      <td>0.65</td>\n",
       "    </tr>\n",
       "    <tr>\n",
       "      <th>21</th>\n",
       "      <td>2015</td>\n",
       "      <td>0.79</td>\n",
       "    </tr>\n",
       "    <tr>\n",
       "      <th>22</th>\n",
       "      <td>2016</td>\n",
       "      <td>0.87</td>\n",
       "    </tr>\n",
       "    <tr>\n",
       "      <th>23</th>\n",
       "      <td>2017</td>\n",
       "      <td>0.85</td>\n",
       "    </tr>\n",
       "    <tr>\n",
       "      <th>24</th>\n",
       "      <td>2018</td>\n",
       "      <td>0.84</td>\n",
       "    </tr>\n",
       "    <tr>\n",
       "      <th>25</th>\n",
       "      <td>2019</td>\n",
       "      <td>0.92</td>\n",
       "    </tr>\n",
       "    <tr>\n",
       "      <th>26</th>\n",
       "      <td>2020</td>\n",
       "      <td>0.91</td>\n",
       "    </tr>\n",
       "    <tr>\n",
       "      <th>27</th>\n",
       "      <td>2021</td>\n",
       "      <td>0.90</td>\n",
       "    </tr>\n",
       "    <tr>\n",
       "      <th>28</th>\n",
       "      <td>2022</td>\n",
       "      <td>0.90</td>\n",
       "    </tr>\n",
       "    <tr>\n",
       "      <th>29</th>\n",
       "      <td>2023</td>\n",
       "      <td>1.18</td>\n",
       "    </tr>\n",
       "    <tr>\n",
       "      <th>30</th>\n",
       "      <td>2024</td>\n",
       "      <td>1.21</td>\n",
       "    </tr>\n",
       "  </tbody>\n",
       "</table>\n",
       "</div>"
      ],
      "text/plain": [
       "    Year  Anomaly\n",
       "0   1994     0.32\n",
       "1   1995     0.49\n",
       "2   1996     0.37\n",
       "3   1997     0.42\n",
       "4   1998     0.70\n",
       "5   1999     0.38\n",
       "6   2000     0.40\n",
       "7   2001     0.62\n",
       "8   2002     0.64\n",
       "9   2003     0.57\n",
       "10  2004     0.36\n",
       "11  2005     0.64\n",
       "12  2006     0.56\n",
       "13  2007     0.59\n",
       "14  2008     0.59\n",
       "15  2009     0.74\n",
       "16  2010     0.67\n",
       "17  2011     0.70\n",
       "18  2012     0.63\n",
       "19  2013     0.62\n",
       "20  2014     0.65\n",
       "21  2015     0.79\n",
       "22  2016     0.87\n",
       "23  2017     0.85\n",
       "24  2018     0.84\n",
       "25  2019     0.92\n",
       "26  2020     0.91\n",
       "27  2021     0.90\n",
       "28  2022     0.90\n",
       "29  2023     1.18\n",
       "30  2024     1.21"
      ]
     },
     "execution_count": 35,
     "metadata": {},
     "output_type": "execute_result"
    }
   ],
   "source": [
    "time_series_selection"
   ]
  },
  {
   "cell_type": "markdown",
   "id": "7c07f225-64be-4c16-9be1-e67944541b4e",
   "metadata": {},
   "source": [
    "Mathematical operations:"
   ]
  },
  {
   "cell_type": "code",
   "execution_count": 36,
   "id": "1b37ad33-197f-4c04-bc66-45f0ae5c8ba6",
   "metadata": {},
   "outputs": [
    {
     "data": {
      "text/html": [
       "<div>\n",
       "<style scoped>\n",
       "    .dataframe tbody tr th:only-of-type {\n",
       "        vertical-align: middle;\n",
       "    }\n",
       "\n",
       "    .dataframe tbody tr th {\n",
       "        vertical-align: top;\n",
       "    }\n",
       "\n",
       "    .dataframe thead th {\n",
       "        text-align: right;\n",
       "    }\n",
       "</style>\n",
       "<table border=\"1\" class=\"dataframe\">\n",
       "  <thead>\n",
       "    <tr style=\"text-align: right;\">\n",
       "      <th></th>\n",
       "      <th>Year</th>\n",
       "      <th>Anomaly</th>\n",
       "    </tr>\n",
       "  </thead>\n",
       "  <tbody>\n",
       "    <tr>\n",
       "      <th>count</th>\n",
       "      <td>175.000000</td>\n",
       "      <td>175.000000</td>\n",
       "    </tr>\n",
       "    <tr>\n",
       "      <th>mean</th>\n",
       "      <td>1937.000000</td>\n",
       "      <td>0.073200</td>\n",
       "    </tr>\n",
       "    <tr>\n",
       "      <th>std</th>\n",
       "      <td>50.662281</td>\n",
       "      <td>0.339958</td>\n",
       "    </tr>\n",
       "    <tr>\n",
       "      <th>min</th>\n",
       "      <td>1850.000000</td>\n",
       "      <td>-0.430000</td>\n",
       "    </tr>\n",
       "    <tr>\n",
       "      <th>25%</th>\n",
       "      <td>1893.500000</td>\n",
       "      <td>-0.155000</td>\n",
       "    </tr>\n",
       "    <tr>\n",
       "      <th>50%</th>\n",
       "      <td>1937.000000</td>\n",
       "      <td>-0.020000</td>\n",
       "    </tr>\n",
       "    <tr>\n",
       "      <th>75%</th>\n",
       "      <td>1980.500000</td>\n",
       "      <td>0.195000</td>\n",
       "    </tr>\n",
       "    <tr>\n",
       "      <th>max</th>\n",
       "      <td>2024.000000</td>\n",
       "      <td>1.210000</td>\n",
       "    </tr>\n",
       "  </tbody>\n",
       "</table>\n",
       "</div>"
      ],
      "text/plain": [
       "              Year     Anomaly\n",
       "count   175.000000  175.000000\n",
       "mean   1937.000000    0.073200\n",
       "std      50.662281    0.339958\n",
       "min    1850.000000   -0.430000\n",
       "25%    1893.500000   -0.155000\n",
       "50%    1937.000000   -0.020000\n",
       "75%    1980.500000    0.195000\n",
       "max    2024.000000    1.210000"
      ]
     },
     "execution_count": 36,
     "metadata": {},
     "output_type": "execute_result"
    }
   ],
   "source": [
    "time_series.describe()"
   ]
  },
  {
   "cell_type": "code",
   "execution_count": 37,
   "id": "1e8c87c1-7044-4abd-9096-7c40c7a38c0c",
   "metadata": {},
   "outputs": [
    {
     "data": {
      "text/html": [
       "<div>\n",
       "<style scoped>\n",
       "    .dataframe tbody tr th:only-of-type {\n",
       "        vertical-align: middle;\n",
       "    }\n",
       "\n",
       "    .dataframe tbody tr th {\n",
       "        vertical-align: top;\n",
       "    }\n",
       "\n",
       "    .dataframe thead th {\n",
       "        text-align: right;\n",
       "    }\n",
       "</style>\n",
       "<table border=\"1\" class=\"dataframe\">\n",
       "  <thead>\n",
       "    <tr style=\"text-align: right;\">\n",
       "      <th></th>\n",
       "      <th>Year</th>\n",
       "      <th>Anomaly</th>\n",
       "    </tr>\n",
       "  </thead>\n",
       "  <tbody>\n",
       "    <tr>\n",
       "      <th>0</th>\n",
       "      <td>1850</td>\n",
       "      <td>273.12</td>\n",
       "    </tr>\n",
       "    <tr>\n",
       "      <th>1</th>\n",
       "      <td>1851</td>\n",
       "      <td>273.22</td>\n",
       "    </tr>\n",
       "    <tr>\n",
       "      <th>2</th>\n",
       "      <td>1852</td>\n",
       "      <td>273.23</td>\n",
       "    </tr>\n",
       "    <tr>\n",
       "      <th>3</th>\n",
       "      <td>1853</td>\n",
       "      <td>273.28</td>\n",
       "    </tr>\n",
       "    <tr>\n",
       "      <th>4</th>\n",
       "      <td>1854</td>\n",
       "      <td>273.15</td>\n",
       "    </tr>\n",
       "  </tbody>\n",
       "</table>\n",
       "</div>"
      ],
      "text/plain": [
       "   Year  Anomaly\n",
       "0  1850   273.12\n",
       "1  1851   273.22\n",
       "2  1852   273.23\n",
       "3  1853   273.28\n",
       "4  1854   273.15"
      ]
     },
     "execution_count": 37,
     "metadata": {},
     "output_type": "execute_result"
    }
   ],
   "source": [
    "time_series['Anomaly'] = time_series['Anomaly'] + 273.15 # convert temperature unit °C to Kelvin\n",
    "time_series.head()"
   ]
  },
  {
   "cell_type": "markdown",
   "id": "9d00cf6e-3c1d-4f9f-9bf2-c2f994e8957e",
   "metadata": {},
   "source": [
    "## 3. Pandas - Iris dataset\n",
    "![Iris](../Images/Iris.png)\n",
    "\n",
    "*Image modified from Steve Dorand, Pixabay*\n",
    "\n",
    "**Original dataset:** https://www.kaggle.com/datasets/uciml/iris/data"
   ]
  },
  {
   "cell_type": "code",
   "execution_count": 38,
   "id": "d2316f23",
   "metadata": {},
   "outputs": [],
   "source": [
    "import pandas as pd"
   ]
  },
  {
   "cell_type": "markdown",
   "id": "d2b1e336",
   "metadata": {},
   "source": [
    "Import data in DataFrame:"
   ]
  },
  {
   "cell_type": "code",
   "execution_count": 39,
   "id": "9e16e723",
   "metadata": {},
   "outputs": [],
   "source": [
    "path = '../Datasets/Iris.csv' # relative path to dataset file\n",
    "df = pd.read_csv(path)"
   ]
  },
  {
   "cell_type": "markdown",
   "id": "20196618",
   "metadata": {},
   "source": [
    "Investigate DataFrame structure:"
   ]
  },
  {
   "cell_type": "code",
   "execution_count": 40,
   "id": "87711360",
   "metadata": {},
   "outputs": [
    {
     "data": {
      "text/html": [
       "<div>\n",
       "<style scoped>\n",
       "    .dataframe tbody tr th:only-of-type {\n",
       "        vertical-align: middle;\n",
       "    }\n",
       "\n",
       "    .dataframe tbody tr th {\n",
       "        vertical-align: top;\n",
       "    }\n",
       "\n",
       "    .dataframe thead th {\n",
       "        text-align: right;\n",
       "    }\n",
       "</style>\n",
       "<table border=\"1\" class=\"dataframe\">\n",
       "  <thead>\n",
       "    <tr style=\"text-align: right;\">\n",
       "      <th></th>\n",
       "      <th>Id</th>\n",
       "      <th>SepalLengthCm</th>\n",
       "      <th>SepalWidthCm</th>\n",
       "      <th>PetalLengthCm</th>\n",
       "      <th>PetalWidthCm</th>\n",
       "      <th>Species</th>\n",
       "    </tr>\n",
       "  </thead>\n",
       "  <tbody>\n",
       "    <tr>\n",
       "      <th>0</th>\n",
       "      <td>1</td>\n",
       "      <td>5.1</td>\n",
       "      <td>3.5</td>\n",
       "      <td>1.4</td>\n",
       "      <td>0.2</td>\n",
       "      <td>Iris-setosa</td>\n",
       "    </tr>\n",
       "    <tr>\n",
       "      <th>1</th>\n",
       "      <td>2</td>\n",
       "      <td>4.9</td>\n",
       "      <td>3.0</td>\n",
       "      <td>1.4</td>\n",
       "      <td>0.2</td>\n",
       "      <td>Iris-setosa</td>\n",
       "    </tr>\n",
       "    <tr>\n",
       "      <th>2</th>\n",
       "      <td>3</td>\n",
       "      <td>4.7</td>\n",
       "      <td>3.2</td>\n",
       "      <td>1.3</td>\n",
       "      <td>0.2</td>\n",
       "      <td>Iris-setosa</td>\n",
       "    </tr>\n",
       "    <tr>\n",
       "      <th>3</th>\n",
       "      <td>4</td>\n",
       "      <td>4.6</td>\n",
       "      <td>3.1</td>\n",
       "      <td>1.5</td>\n",
       "      <td>0.2</td>\n",
       "      <td>Iris-setosa</td>\n",
       "    </tr>\n",
       "    <tr>\n",
       "      <th>4</th>\n",
       "      <td>5</td>\n",
       "      <td>5.0</td>\n",
       "      <td>3.6</td>\n",
       "      <td>1.4</td>\n",
       "      <td>0.2</td>\n",
       "      <td>Iris-setosa</td>\n",
       "    </tr>\n",
       "  </tbody>\n",
       "</table>\n",
       "</div>"
      ],
      "text/plain": [
       "   Id  SepalLengthCm  SepalWidthCm  PetalLengthCm  PetalWidthCm      Species\n",
       "0   1            5.1           3.5            1.4           0.2  Iris-setosa\n",
       "1   2            4.9           3.0            1.4           0.2  Iris-setosa\n",
       "2   3            4.7           3.2            1.3           0.2  Iris-setosa\n",
       "3   4            4.6           3.1            1.5           0.2  Iris-setosa\n",
       "4   5            5.0           3.6            1.4           0.2  Iris-setosa"
      ]
     },
     "execution_count": 40,
     "metadata": {},
     "output_type": "execute_result"
    }
   ],
   "source": [
    "df.head()"
   ]
  },
  {
   "cell_type": "code",
   "execution_count": 41,
   "id": "8f88fb7d",
   "metadata": {},
   "outputs": [
    {
     "data": {
      "text/plain": [
       "RangeIndex(start=0, stop=150, step=1)"
      ]
     },
     "execution_count": 41,
     "metadata": {},
     "output_type": "execute_result"
    }
   ],
   "source": [
    "df.index"
   ]
  },
  {
   "cell_type": "code",
   "execution_count": 42,
   "id": "566ffa29",
   "metadata": {},
   "outputs": [
    {
     "data": {
      "text/plain": [
       "Index(['Id', 'SepalLengthCm', 'SepalWidthCm', 'PetalLengthCm', 'PetalWidthCm',\n",
       "       'Species'],\n",
       "      dtype='object')"
      ]
     },
     "execution_count": 42,
     "metadata": {},
     "output_type": "execute_result"
    }
   ],
   "source": [
    "df.columns"
   ]
  },
  {
   "cell_type": "code",
   "execution_count": 43,
   "id": "d7b1d048",
   "metadata": {},
   "outputs": [
    {
     "data": {
      "text/plain": [
       "Id                 int64\n",
       "SepalLengthCm    float64\n",
       "SepalWidthCm     float64\n",
       "PetalLengthCm    float64\n",
       "PetalWidthCm     float64\n",
       "Species           object\n",
       "dtype: object"
      ]
     },
     "execution_count": 43,
     "metadata": {},
     "output_type": "execute_result"
    }
   ],
   "source": [
    "df.dtypes"
   ]
  },
  {
   "cell_type": "markdown",
   "id": "e20617db",
   "metadata": {},
   "source": [
    "Data selection:"
   ]
  },
  {
   "cell_type": "code",
   "execution_count": 50,
   "id": "6ea2f98e",
   "metadata": {},
   "outputs": [
    {
     "data": {
      "text/html": [
       "<div>\n",
       "<style scoped>\n",
       "    .dataframe tbody tr th:only-of-type {\n",
       "        vertical-align: middle;\n",
       "    }\n",
       "\n",
       "    .dataframe tbody tr th {\n",
       "        vertical-align: top;\n",
       "    }\n",
       "\n",
       "    .dataframe thead th {\n",
       "        text-align: right;\n",
       "    }\n",
       "</style>\n",
       "<table border=\"1\" class=\"dataframe\">\n",
       "  <thead>\n",
       "    <tr style=\"text-align: right;\">\n",
       "      <th></th>\n",
       "      <th>Id</th>\n",
       "      <th>SepalLengthCm</th>\n",
       "      <th>SepalWidthCm</th>\n",
       "      <th>PetalLengthCm</th>\n",
       "      <th>PetalWidthCm</th>\n",
       "      <th>Species</th>\n",
       "    </tr>\n",
       "  </thead>\n",
       "  <tbody>\n",
       "    <tr>\n",
       "      <th>0</th>\n",
       "      <td>1</td>\n",
       "      <td>5.1</td>\n",
       "      <td>3.5</td>\n",
       "      <td>1.4</td>\n",
       "      <td>0.2</td>\n",
       "      <td>Iris-setosa</td>\n",
       "    </tr>\n",
       "    <tr>\n",
       "      <th>1</th>\n",
       "      <td>2</td>\n",
       "      <td>4.9</td>\n",
       "      <td>3.0</td>\n",
       "      <td>1.4</td>\n",
       "      <td>0.2</td>\n",
       "      <td>Iris-setosa</td>\n",
       "    </tr>\n",
       "    <tr>\n",
       "      <th>2</th>\n",
       "      <td>3</td>\n",
       "      <td>4.7</td>\n",
       "      <td>3.2</td>\n",
       "      <td>1.3</td>\n",
       "      <td>0.2</td>\n",
       "      <td>Iris-setosa</td>\n",
       "    </tr>\n",
       "    <tr>\n",
       "      <th>3</th>\n",
       "      <td>4</td>\n",
       "      <td>4.6</td>\n",
       "      <td>3.1</td>\n",
       "      <td>1.5</td>\n",
       "      <td>0.2</td>\n",
       "      <td>Iris-setosa</td>\n",
       "    </tr>\n",
       "    <tr>\n",
       "      <th>4</th>\n",
       "      <td>5</td>\n",
       "      <td>5.0</td>\n",
       "      <td>3.6</td>\n",
       "      <td>1.4</td>\n",
       "      <td>0.2</td>\n",
       "      <td>Iris-setosa</td>\n",
       "    </tr>\n",
       "  </tbody>\n",
       "</table>\n",
       "</div>"
      ],
      "text/plain": [
       "   Id  SepalLengthCm  SepalWidthCm  PetalLengthCm  PetalWidthCm      Species\n",
       "0   1            5.1           3.5            1.4           0.2  Iris-setosa\n",
       "1   2            4.9           3.0            1.4           0.2  Iris-setosa\n",
       "2   3            4.7           3.2            1.3           0.2  Iris-setosa\n",
       "3   4            4.6           3.1            1.5           0.2  Iris-setosa\n",
       "4   5            5.0           3.6            1.4           0.2  Iris-setosa"
      ]
     },
     "execution_count": 50,
     "metadata": {},
     "output_type": "execute_result"
    }
   ],
   "source": [
    "df.loc[0:4,:]"
   ]
  },
  {
   "cell_type": "code",
   "execution_count": 51,
   "id": "2757eb19",
   "metadata": {},
   "outputs": [
    {
     "data": {
      "text/html": [
       "<div>\n",
       "<style scoped>\n",
       "    .dataframe tbody tr th:only-of-type {\n",
       "        vertical-align: middle;\n",
       "    }\n",
       "\n",
       "    .dataframe tbody tr th {\n",
       "        vertical-align: top;\n",
       "    }\n",
       "\n",
       "    .dataframe thead th {\n",
       "        text-align: right;\n",
       "    }\n",
       "</style>\n",
       "<table border=\"1\" class=\"dataframe\">\n",
       "  <thead>\n",
       "    <tr style=\"text-align: right;\">\n",
       "      <th></th>\n",
       "      <th>Id</th>\n",
       "      <th>SepalLengthCm</th>\n",
       "      <th>SepalWidthCm</th>\n",
       "      <th>PetalLengthCm</th>\n",
       "      <th>PetalWidthCm</th>\n",
       "      <th>Species</th>\n",
       "    </tr>\n",
       "  </thead>\n",
       "  <tbody>\n",
       "    <tr>\n",
       "      <th>50</th>\n",
       "      <td>51</td>\n",
       "      <td>7.0</td>\n",
       "      <td>3.2</td>\n",
       "      <td>4.7</td>\n",
       "      <td>1.4</td>\n",
       "      <td>Iris-versicolor</td>\n",
       "    </tr>\n",
       "    <tr>\n",
       "      <th>51</th>\n",
       "      <td>52</td>\n",
       "      <td>6.4</td>\n",
       "      <td>3.2</td>\n",
       "      <td>4.5</td>\n",
       "      <td>1.5</td>\n",
       "      <td>Iris-versicolor</td>\n",
       "    </tr>\n",
       "    <tr>\n",
       "      <th>52</th>\n",
       "      <td>53</td>\n",
       "      <td>6.9</td>\n",
       "      <td>3.1</td>\n",
       "      <td>4.9</td>\n",
       "      <td>1.5</td>\n",
       "      <td>Iris-versicolor</td>\n",
       "    </tr>\n",
       "    <tr>\n",
       "      <th>53</th>\n",
       "      <td>54</td>\n",
       "      <td>5.5</td>\n",
       "      <td>2.3</td>\n",
       "      <td>4.0</td>\n",
       "      <td>1.3</td>\n",
       "      <td>Iris-versicolor</td>\n",
       "    </tr>\n",
       "    <tr>\n",
       "      <th>54</th>\n",
       "      <td>55</td>\n",
       "      <td>6.5</td>\n",
       "      <td>2.8</td>\n",
       "      <td>4.6</td>\n",
       "      <td>1.5</td>\n",
       "      <td>Iris-versicolor</td>\n",
       "    </tr>\n",
       "    <tr>\n",
       "      <th>55</th>\n",
       "      <td>56</td>\n",
       "      <td>5.7</td>\n",
       "      <td>2.8</td>\n",
       "      <td>4.5</td>\n",
       "      <td>1.3</td>\n",
       "      <td>Iris-versicolor</td>\n",
       "    </tr>\n",
       "    <tr>\n",
       "      <th>56</th>\n",
       "      <td>57</td>\n",
       "      <td>6.3</td>\n",
       "      <td>3.3</td>\n",
       "      <td>4.7</td>\n",
       "      <td>1.6</td>\n",
       "      <td>Iris-versicolor</td>\n",
       "    </tr>\n",
       "    <tr>\n",
       "      <th>57</th>\n",
       "      <td>58</td>\n",
       "      <td>4.9</td>\n",
       "      <td>2.4</td>\n",
       "      <td>3.3</td>\n",
       "      <td>1.0</td>\n",
       "      <td>Iris-versicolor</td>\n",
       "    </tr>\n",
       "    <tr>\n",
       "      <th>58</th>\n",
       "      <td>59</td>\n",
       "      <td>6.6</td>\n",
       "      <td>2.9</td>\n",
       "      <td>4.6</td>\n",
       "      <td>1.3</td>\n",
       "      <td>Iris-versicolor</td>\n",
       "    </tr>\n",
       "    <tr>\n",
       "      <th>59</th>\n",
       "      <td>60</td>\n",
       "      <td>5.2</td>\n",
       "      <td>2.7</td>\n",
       "      <td>3.9</td>\n",
       "      <td>1.4</td>\n",
       "      <td>Iris-versicolor</td>\n",
       "    </tr>\n",
       "    <tr>\n",
       "      <th>60</th>\n",
       "      <td>61</td>\n",
       "      <td>5.0</td>\n",
       "      <td>2.0</td>\n",
       "      <td>3.5</td>\n",
       "      <td>1.0</td>\n",
       "      <td>Iris-versicolor</td>\n",
       "    </tr>\n",
       "    <tr>\n",
       "      <th>61</th>\n",
       "      <td>62</td>\n",
       "      <td>5.9</td>\n",
       "      <td>3.0</td>\n",
       "      <td>4.2</td>\n",
       "      <td>1.5</td>\n",
       "      <td>Iris-versicolor</td>\n",
       "    </tr>\n",
       "    <tr>\n",
       "      <th>62</th>\n",
       "      <td>63</td>\n",
       "      <td>6.0</td>\n",
       "      <td>2.2</td>\n",
       "      <td>4.0</td>\n",
       "      <td>1.0</td>\n",
       "      <td>Iris-versicolor</td>\n",
       "    </tr>\n",
       "    <tr>\n",
       "      <th>63</th>\n",
       "      <td>64</td>\n",
       "      <td>6.1</td>\n",
       "      <td>2.9</td>\n",
       "      <td>4.7</td>\n",
       "      <td>1.4</td>\n",
       "      <td>Iris-versicolor</td>\n",
       "    </tr>\n",
       "    <tr>\n",
       "      <th>64</th>\n",
       "      <td>65</td>\n",
       "      <td>5.6</td>\n",
       "      <td>2.9</td>\n",
       "      <td>3.6</td>\n",
       "      <td>1.3</td>\n",
       "      <td>Iris-versicolor</td>\n",
       "    </tr>\n",
       "    <tr>\n",
       "      <th>65</th>\n",
       "      <td>66</td>\n",
       "      <td>6.7</td>\n",
       "      <td>3.1</td>\n",
       "      <td>4.4</td>\n",
       "      <td>1.4</td>\n",
       "      <td>Iris-versicolor</td>\n",
       "    </tr>\n",
       "    <tr>\n",
       "      <th>66</th>\n",
       "      <td>67</td>\n",
       "      <td>5.6</td>\n",
       "      <td>3.0</td>\n",
       "      <td>4.5</td>\n",
       "      <td>1.5</td>\n",
       "      <td>Iris-versicolor</td>\n",
       "    </tr>\n",
       "    <tr>\n",
       "      <th>67</th>\n",
       "      <td>68</td>\n",
       "      <td>5.8</td>\n",
       "      <td>2.7</td>\n",
       "      <td>4.1</td>\n",
       "      <td>1.0</td>\n",
       "      <td>Iris-versicolor</td>\n",
       "    </tr>\n",
       "    <tr>\n",
       "      <th>68</th>\n",
       "      <td>69</td>\n",
       "      <td>6.2</td>\n",
       "      <td>2.2</td>\n",
       "      <td>4.5</td>\n",
       "      <td>1.5</td>\n",
       "      <td>Iris-versicolor</td>\n",
       "    </tr>\n",
       "    <tr>\n",
       "      <th>69</th>\n",
       "      <td>70</td>\n",
       "      <td>5.6</td>\n",
       "      <td>2.5</td>\n",
       "      <td>3.9</td>\n",
       "      <td>1.1</td>\n",
       "      <td>Iris-versicolor</td>\n",
       "    </tr>\n",
       "    <tr>\n",
       "      <th>70</th>\n",
       "      <td>71</td>\n",
       "      <td>5.9</td>\n",
       "      <td>3.2</td>\n",
       "      <td>4.8</td>\n",
       "      <td>1.8</td>\n",
       "      <td>Iris-versicolor</td>\n",
       "    </tr>\n",
       "    <tr>\n",
       "      <th>71</th>\n",
       "      <td>72</td>\n",
       "      <td>6.1</td>\n",
       "      <td>2.8</td>\n",
       "      <td>4.0</td>\n",
       "      <td>1.3</td>\n",
       "      <td>Iris-versicolor</td>\n",
       "    </tr>\n",
       "    <tr>\n",
       "      <th>72</th>\n",
       "      <td>73</td>\n",
       "      <td>6.3</td>\n",
       "      <td>2.5</td>\n",
       "      <td>4.9</td>\n",
       "      <td>1.5</td>\n",
       "      <td>Iris-versicolor</td>\n",
       "    </tr>\n",
       "    <tr>\n",
       "      <th>73</th>\n",
       "      <td>74</td>\n",
       "      <td>6.1</td>\n",
       "      <td>2.8</td>\n",
       "      <td>4.7</td>\n",
       "      <td>1.2</td>\n",
       "      <td>Iris-versicolor</td>\n",
       "    </tr>\n",
       "    <tr>\n",
       "      <th>74</th>\n",
       "      <td>75</td>\n",
       "      <td>6.4</td>\n",
       "      <td>2.9</td>\n",
       "      <td>4.3</td>\n",
       "      <td>1.3</td>\n",
       "      <td>Iris-versicolor</td>\n",
       "    </tr>\n",
       "    <tr>\n",
       "      <th>75</th>\n",
       "      <td>76</td>\n",
       "      <td>6.6</td>\n",
       "      <td>3.0</td>\n",
       "      <td>4.4</td>\n",
       "      <td>1.4</td>\n",
       "      <td>Iris-versicolor</td>\n",
       "    </tr>\n",
       "    <tr>\n",
       "      <th>76</th>\n",
       "      <td>77</td>\n",
       "      <td>6.8</td>\n",
       "      <td>2.8</td>\n",
       "      <td>4.8</td>\n",
       "      <td>1.4</td>\n",
       "      <td>Iris-versicolor</td>\n",
       "    </tr>\n",
       "    <tr>\n",
       "      <th>77</th>\n",
       "      <td>78</td>\n",
       "      <td>6.7</td>\n",
       "      <td>3.0</td>\n",
       "      <td>5.0</td>\n",
       "      <td>1.7</td>\n",
       "      <td>Iris-versicolor</td>\n",
       "    </tr>\n",
       "    <tr>\n",
       "      <th>78</th>\n",
       "      <td>79</td>\n",
       "      <td>6.0</td>\n",
       "      <td>2.9</td>\n",
       "      <td>4.5</td>\n",
       "      <td>1.5</td>\n",
       "      <td>Iris-versicolor</td>\n",
       "    </tr>\n",
       "    <tr>\n",
       "      <th>79</th>\n",
       "      <td>80</td>\n",
       "      <td>5.7</td>\n",
       "      <td>2.6</td>\n",
       "      <td>3.5</td>\n",
       "      <td>1.0</td>\n",
       "      <td>Iris-versicolor</td>\n",
       "    </tr>\n",
       "    <tr>\n",
       "      <th>80</th>\n",
       "      <td>81</td>\n",
       "      <td>5.5</td>\n",
       "      <td>2.4</td>\n",
       "      <td>3.8</td>\n",
       "      <td>1.1</td>\n",
       "      <td>Iris-versicolor</td>\n",
       "    </tr>\n",
       "    <tr>\n",
       "      <th>81</th>\n",
       "      <td>82</td>\n",
       "      <td>5.5</td>\n",
       "      <td>2.4</td>\n",
       "      <td>3.7</td>\n",
       "      <td>1.0</td>\n",
       "      <td>Iris-versicolor</td>\n",
       "    </tr>\n",
       "    <tr>\n",
       "      <th>82</th>\n",
       "      <td>83</td>\n",
       "      <td>5.8</td>\n",
       "      <td>2.7</td>\n",
       "      <td>3.9</td>\n",
       "      <td>1.2</td>\n",
       "      <td>Iris-versicolor</td>\n",
       "    </tr>\n",
       "    <tr>\n",
       "      <th>83</th>\n",
       "      <td>84</td>\n",
       "      <td>6.0</td>\n",
       "      <td>2.7</td>\n",
       "      <td>5.1</td>\n",
       "      <td>1.6</td>\n",
       "      <td>Iris-versicolor</td>\n",
       "    </tr>\n",
       "    <tr>\n",
       "      <th>84</th>\n",
       "      <td>85</td>\n",
       "      <td>5.4</td>\n",
       "      <td>3.0</td>\n",
       "      <td>4.5</td>\n",
       "      <td>1.5</td>\n",
       "      <td>Iris-versicolor</td>\n",
       "    </tr>\n",
       "    <tr>\n",
       "      <th>85</th>\n",
       "      <td>86</td>\n",
       "      <td>6.0</td>\n",
       "      <td>3.4</td>\n",
       "      <td>4.5</td>\n",
       "      <td>1.6</td>\n",
       "      <td>Iris-versicolor</td>\n",
       "    </tr>\n",
       "    <tr>\n",
       "      <th>86</th>\n",
       "      <td>87</td>\n",
       "      <td>6.7</td>\n",
       "      <td>3.1</td>\n",
       "      <td>4.7</td>\n",
       "      <td>1.5</td>\n",
       "      <td>Iris-versicolor</td>\n",
       "    </tr>\n",
       "    <tr>\n",
       "      <th>87</th>\n",
       "      <td>88</td>\n",
       "      <td>6.3</td>\n",
       "      <td>2.3</td>\n",
       "      <td>4.4</td>\n",
       "      <td>1.3</td>\n",
       "      <td>Iris-versicolor</td>\n",
       "    </tr>\n",
       "    <tr>\n",
       "      <th>88</th>\n",
       "      <td>89</td>\n",
       "      <td>5.6</td>\n",
       "      <td>3.0</td>\n",
       "      <td>4.1</td>\n",
       "      <td>1.3</td>\n",
       "      <td>Iris-versicolor</td>\n",
       "    </tr>\n",
       "    <tr>\n",
       "      <th>89</th>\n",
       "      <td>90</td>\n",
       "      <td>5.5</td>\n",
       "      <td>2.5</td>\n",
       "      <td>4.0</td>\n",
       "      <td>1.3</td>\n",
       "      <td>Iris-versicolor</td>\n",
       "    </tr>\n",
       "    <tr>\n",
       "      <th>90</th>\n",
       "      <td>91</td>\n",
       "      <td>5.5</td>\n",
       "      <td>2.6</td>\n",
       "      <td>4.4</td>\n",
       "      <td>1.2</td>\n",
       "      <td>Iris-versicolor</td>\n",
       "    </tr>\n",
       "    <tr>\n",
       "      <th>91</th>\n",
       "      <td>92</td>\n",
       "      <td>6.1</td>\n",
       "      <td>3.0</td>\n",
       "      <td>4.6</td>\n",
       "      <td>1.4</td>\n",
       "      <td>Iris-versicolor</td>\n",
       "    </tr>\n",
       "    <tr>\n",
       "      <th>92</th>\n",
       "      <td>93</td>\n",
       "      <td>5.8</td>\n",
       "      <td>2.6</td>\n",
       "      <td>4.0</td>\n",
       "      <td>1.2</td>\n",
       "      <td>Iris-versicolor</td>\n",
       "    </tr>\n",
       "    <tr>\n",
       "      <th>93</th>\n",
       "      <td>94</td>\n",
       "      <td>5.0</td>\n",
       "      <td>2.3</td>\n",
       "      <td>3.3</td>\n",
       "      <td>1.0</td>\n",
       "      <td>Iris-versicolor</td>\n",
       "    </tr>\n",
       "    <tr>\n",
       "      <th>94</th>\n",
       "      <td>95</td>\n",
       "      <td>5.6</td>\n",
       "      <td>2.7</td>\n",
       "      <td>4.2</td>\n",
       "      <td>1.3</td>\n",
       "      <td>Iris-versicolor</td>\n",
       "    </tr>\n",
       "    <tr>\n",
       "      <th>95</th>\n",
       "      <td>96</td>\n",
       "      <td>5.7</td>\n",
       "      <td>3.0</td>\n",
       "      <td>4.2</td>\n",
       "      <td>1.2</td>\n",
       "      <td>Iris-versicolor</td>\n",
       "    </tr>\n",
       "    <tr>\n",
       "      <th>96</th>\n",
       "      <td>97</td>\n",
       "      <td>5.7</td>\n",
       "      <td>2.9</td>\n",
       "      <td>4.2</td>\n",
       "      <td>1.3</td>\n",
       "      <td>Iris-versicolor</td>\n",
       "    </tr>\n",
       "    <tr>\n",
       "      <th>97</th>\n",
       "      <td>98</td>\n",
       "      <td>6.2</td>\n",
       "      <td>2.9</td>\n",
       "      <td>4.3</td>\n",
       "      <td>1.3</td>\n",
       "      <td>Iris-versicolor</td>\n",
       "    </tr>\n",
       "    <tr>\n",
       "      <th>98</th>\n",
       "      <td>99</td>\n",
       "      <td>5.1</td>\n",
       "      <td>2.5</td>\n",
       "      <td>3.0</td>\n",
       "      <td>1.1</td>\n",
       "      <td>Iris-versicolor</td>\n",
       "    </tr>\n",
       "    <tr>\n",
       "      <th>99</th>\n",
       "      <td>100</td>\n",
       "      <td>5.7</td>\n",
       "      <td>2.8</td>\n",
       "      <td>4.1</td>\n",
       "      <td>1.3</td>\n",
       "      <td>Iris-versicolor</td>\n",
       "    </tr>\n",
       "  </tbody>\n",
       "</table>\n",
       "</div>"
      ],
      "text/plain": [
       "     Id  SepalLengthCm  SepalWidthCm  PetalLengthCm  PetalWidthCm  \\\n",
       "50   51            7.0           3.2            4.7           1.4   \n",
       "51   52            6.4           3.2            4.5           1.5   \n",
       "52   53            6.9           3.1            4.9           1.5   \n",
       "53   54            5.5           2.3            4.0           1.3   \n",
       "54   55            6.5           2.8            4.6           1.5   \n",
       "55   56            5.7           2.8            4.5           1.3   \n",
       "56   57            6.3           3.3            4.7           1.6   \n",
       "57   58            4.9           2.4            3.3           1.0   \n",
       "58   59            6.6           2.9            4.6           1.3   \n",
       "59   60            5.2           2.7            3.9           1.4   \n",
       "60   61            5.0           2.0            3.5           1.0   \n",
       "61   62            5.9           3.0            4.2           1.5   \n",
       "62   63            6.0           2.2            4.0           1.0   \n",
       "63   64            6.1           2.9            4.7           1.4   \n",
       "64   65            5.6           2.9            3.6           1.3   \n",
       "65   66            6.7           3.1            4.4           1.4   \n",
       "66   67            5.6           3.0            4.5           1.5   \n",
       "67   68            5.8           2.7            4.1           1.0   \n",
       "68   69            6.2           2.2            4.5           1.5   \n",
       "69   70            5.6           2.5            3.9           1.1   \n",
       "70   71            5.9           3.2            4.8           1.8   \n",
       "71   72            6.1           2.8            4.0           1.3   \n",
       "72   73            6.3           2.5            4.9           1.5   \n",
       "73   74            6.1           2.8            4.7           1.2   \n",
       "74   75            6.4           2.9            4.3           1.3   \n",
       "75   76            6.6           3.0            4.4           1.4   \n",
       "76   77            6.8           2.8            4.8           1.4   \n",
       "77   78            6.7           3.0            5.0           1.7   \n",
       "78   79            6.0           2.9            4.5           1.5   \n",
       "79   80            5.7           2.6            3.5           1.0   \n",
       "80   81            5.5           2.4            3.8           1.1   \n",
       "81   82            5.5           2.4            3.7           1.0   \n",
       "82   83            5.8           2.7            3.9           1.2   \n",
       "83   84            6.0           2.7            5.1           1.6   \n",
       "84   85            5.4           3.0            4.5           1.5   \n",
       "85   86            6.0           3.4            4.5           1.6   \n",
       "86   87            6.7           3.1            4.7           1.5   \n",
       "87   88            6.3           2.3            4.4           1.3   \n",
       "88   89            5.6           3.0            4.1           1.3   \n",
       "89   90            5.5           2.5            4.0           1.3   \n",
       "90   91            5.5           2.6            4.4           1.2   \n",
       "91   92            6.1           3.0            4.6           1.4   \n",
       "92   93            5.8           2.6            4.0           1.2   \n",
       "93   94            5.0           2.3            3.3           1.0   \n",
       "94   95            5.6           2.7            4.2           1.3   \n",
       "95   96            5.7           3.0            4.2           1.2   \n",
       "96   97            5.7           2.9            4.2           1.3   \n",
       "97   98            6.2           2.9            4.3           1.3   \n",
       "98   99            5.1           2.5            3.0           1.1   \n",
       "99  100            5.7           2.8            4.1           1.3   \n",
       "\n",
       "            Species  \n",
       "50  Iris-versicolor  \n",
       "51  Iris-versicolor  \n",
       "52  Iris-versicolor  \n",
       "53  Iris-versicolor  \n",
       "54  Iris-versicolor  \n",
       "55  Iris-versicolor  \n",
       "56  Iris-versicolor  \n",
       "57  Iris-versicolor  \n",
       "58  Iris-versicolor  \n",
       "59  Iris-versicolor  \n",
       "60  Iris-versicolor  \n",
       "61  Iris-versicolor  \n",
       "62  Iris-versicolor  \n",
       "63  Iris-versicolor  \n",
       "64  Iris-versicolor  \n",
       "65  Iris-versicolor  \n",
       "66  Iris-versicolor  \n",
       "67  Iris-versicolor  \n",
       "68  Iris-versicolor  \n",
       "69  Iris-versicolor  \n",
       "70  Iris-versicolor  \n",
       "71  Iris-versicolor  \n",
       "72  Iris-versicolor  \n",
       "73  Iris-versicolor  \n",
       "74  Iris-versicolor  \n",
       "75  Iris-versicolor  \n",
       "76  Iris-versicolor  \n",
       "77  Iris-versicolor  \n",
       "78  Iris-versicolor  \n",
       "79  Iris-versicolor  \n",
       "80  Iris-versicolor  \n",
       "81  Iris-versicolor  \n",
       "82  Iris-versicolor  \n",
       "83  Iris-versicolor  \n",
       "84  Iris-versicolor  \n",
       "85  Iris-versicolor  \n",
       "86  Iris-versicolor  \n",
       "87  Iris-versicolor  \n",
       "88  Iris-versicolor  \n",
       "89  Iris-versicolor  \n",
       "90  Iris-versicolor  \n",
       "91  Iris-versicolor  \n",
       "92  Iris-versicolor  \n",
       "93  Iris-versicolor  \n",
       "94  Iris-versicolor  \n",
       "95  Iris-versicolor  \n",
       "96  Iris-versicolor  \n",
       "97  Iris-versicolor  \n",
       "98  Iris-versicolor  \n",
       "99  Iris-versicolor  "
      ]
     },
     "execution_count": 51,
     "metadata": {},
     "output_type": "execute_result"
    }
   ],
   "source": [
    "df.loc[df['Species'] == 'Iris-versicolor',:]"
   ]
  },
  {
   "cell_type": "markdown",
   "id": "3b3f3c4a",
   "metadata": {},
   "source": [
    "Data in Pandas DataFrame vs. NumPy array:"
   ]
  },
  {
   "cell_type": "code",
   "execution_count": null,
   "id": "7475e8f8",
   "metadata": {
    "scrolled": true
   },
   "outputs": [],
   "source": [
    "array = df.values\n",
    "array"
   ]
  },
  {
   "cell_type": "markdown",
   "id": "dab05bc5",
   "metadata": {},
   "source": [
    "Data exploration:"
   ]
  },
  {
   "cell_type": "code",
   "execution_count": null,
   "id": "e6fd9f8b",
   "metadata": {},
   "outputs": [],
   "source": [
    "df.describe()"
   ]
  },
  {
   "cell_type": "markdown",
   "id": "a770297d",
   "metadata": {},
   "source": [
    "**Exercise:** Calculate the area of the Petals via multiplication (no need for precise ellipse area) in a new column and print the first rows of the DataFrame."
   ]
  },
  {
   "cell_type": "code",
   "execution_count": 52,
   "id": "e87bbde3",
   "metadata": {},
   "outputs": [
    {
     "data": {
      "text/html": [
       "<div>\n",
       "<style scoped>\n",
       "    .dataframe tbody tr th:only-of-type {\n",
       "        vertical-align: middle;\n",
       "    }\n",
       "\n",
       "    .dataframe tbody tr th {\n",
       "        vertical-align: top;\n",
       "    }\n",
       "\n",
       "    .dataframe thead th {\n",
       "        text-align: right;\n",
       "    }\n",
       "</style>\n",
       "<table border=\"1\" class=\"dataframe\">\n",
       "  <thead>\n",
       "    <tr style=\"text-align: right;\">\n",
       "      <th></th>\n",
       "      <th>Id</th>\n",
       "      <th>SepalLengthCm</th>\n",
       "      <th>SepalWidthCm</th>\n",
       "      <th>PetalLengthCm</th>\n",
       "      <th>PetalWidthCm</th>\n",
       "      <th>Species</th>\n",
       "      <th>PetalAreaCm2</th>\n",
       "    </tr>\n",
       "  </thead>\n",
       "  <tbody>\n",
       "    <tr>\n",
       "      <th>0</th>\n",
       "      <td>1</td>\n",
       "      <td>5.1</td>\n",
       "      <td>3.5</td>\n",
       "      <td>1.4</td>\n",
       "      <td>0.2</td>\n",
       "      <td>Iris-setosa</td>\n",
       "      <td>0.28</td>\n",
       "    </tr>\n",
       "    <tr>\n",
       "      <th>1</th>\n",
       "      <td>2</td>\n",
       "      <td>4.9</td>\n",
       "      <td>3.0</td>\n",
       "      <td>1.4</td>\n",
       "      <td>0.2</td>\n",
       "      <td>Iris-setosa</td>\n",
       "      <td>0.28</td>\n",
       "    </tr>\n",
       "    <tr>\n",
       "      <th>2</th>\n",
       "      <td>3</td>\n",
       "      <td>4.7</td>\n",
       "      <td>3.2</td>\n",
       "      <td>1.3</td>\n",
       "      <td>0.2</td>\n",
       "      <td>Iris-setosa</td>\n",
       "      <td>0.26</td>\n",
       "    </tr>\n",
       "    <tr>\n",
       "      <th>3</th>\n",
       "      <td>4</td>\n",
       "      <td>4.6</td>\n",
       "      <td>3.1</td>\n",
       "      <td>1.5</td>\n",
       "      <td>0.2</td>\n",
       "      <td>Iris-setosa</td>\n",
       "      <td>0.30</td>\n",
       "    </tr>\n",
       "    <tr>\n",
       "      <th>4</th>\n",
       "      <td>5</td>\n",
       "      <td>5.0</td>\n",
       "      <td>3.6</td>\n",
       "      <td>1.4</td>\n",
       "      <td>0.2</td>\n",
       "      <td>Iris-setosa</td>\n",
       "      <td>0.28</td>\n",
       "    </tr>\n",
       "  </tbody>\n",
       "</table>\n",
       "</div>"
      ],
      "text/plain": [
       "   Id  SepalLengthCm  SepalWidthCm  PetalLengthCm  PetalWidthCm      Species  \\\n",
       "0   1            5.1           3.5            1.4           0.2  Iris-setosa   \n",
       "1   2            4.9           3.0            1.4           0.2  Iris-setosa   \n",
       "2   3            4.7           3.2            1.3           0.2  Iris-setosa   \n",
       "3   4            4.6           3.1            1.5           0.2  Iris-setosa   \n",
       "4   5            5.0           3.6            1.4           0.2  Iris-setosa   \n",
       "\n",
       "   PetalAreaCm2  \n",
       "0          0.28  \n",
       "1          0.28  \n",
       "2          0.26  \n",
       "3          0.30  \n",
       "4          0.28  "
      ]
     },
     "execution_count": 52,
     "metadata": {},
     "output_type": "execute_result"
    }
   ],
   "source": [
    "df['PetalAreaCm2'] = df['PetalLengthCm'] * df['PetalWidthCm'] \n",
    "df.head(5)"
   ]
  },
  {
   "cell_type": "markdown",
   "id": "ecd48a44",
   "metadata": {},
   "source": [
    "Sort & reset index:"
   ]
  },
  {
   "cell_type": "code",
   "execution_count": 53,
   "id": "11fa096a",
   "metadata": {},
   "outputs": [
    {
     "data": {
      "text/html": [
       "<div>\n",
       "<style scoped>\n",
       "    .dataframe tbody tr th:only-of-type {\n",
       "        vertical-align: middle;\n",
       "    }\n",
       "\n",
       "    .dataframe tbody tr th {\n",
       "        vertical-align: top;\n",
       "    }\n",
       "\n",
       "    .dataframe thead th {\n",
       "        text-align: right;\n",
       "    }\n",
       "</style>\n",
       "<table border=\"1\" class=\"dataframe\">\n",
       "  <thead>\n",
       "    <tr style=\"text-align: right;\">\n",
       "      <th></th>\n",
       "      <th>Id</th>\n",
       "      <th>SepalLengthCm</th>\n",
       "      <th>SepalWidthCm</th>\n",
       "      <th>PetalLengthCm</th>\n",
       "      <th>PetalWidthCm</th>\n",
       "      <th>Species</th>\n",
       "      <th>PetalAreaCm2</th>\n",
       "    </tr>\n",
       "  </thead>\n",
       "  <tbody>\n",
       "    <tr>\n",
       "      <th>118</th>\n",
       "      <td>119</td>\n",
       "      <td>7.7</td>\n",
       "      <td>2.6</td>\n",
       "      <td>6.9</td>\n",
       "      <td>2.3</td>\n",
       "      <td>Iris-virginica</td>\n",
       "      <td>15.87</td>\n",
       "    </tr>\n",
       "    <tr>\n",
       "      <th>117</th>\n",
       "      <td>118</td>\n",
       "      <td>7.7</td>\n",
       "      <td>3.8</td>\n",
       "      <td>6.7</td>\n",
       "      <td>2.2</td>\n",
       "      <td>Iris-virginica</td>\n",
       "      <td>14.74</td>\n",
       "    </tr>\n",
       "    <tr>\n",
       "      <th>122</th>\n",
       "      <td>123</td>\n",
       "      <td>7.7</td>\n",
       "      <td>2.8</td>\n",
       "      <td>6.7</td>\n",
       "      <td>2.0</td>\n",
       "      <td>Iris-virginica</td>\n",
       "      <td>13.40</td>\n",
       "    </tr>\n",
       "    <tr>\n",
       "      <th>105</th>\n",
       "      <td>106</td>\n",
       "      <td>7.6</td>\n",
       "      <td>3.0</td>\n",
       "      <td>6.6</td>\n",
       "      <td>2.1</td>\n",
       "      <td>Iris-virginica</td>\n",
       "      <td>13.86</td>\n",
       "    </tr>\n",
       "    <tr>\n",
       "      <th>131</th>\n",
       "      <td>132</td>\n",
       "      <td>7.9</td>\n",
       "      <td>3.8</td>\n",
       "      <td>6.4</td>\n",
       "      <td>2.0</td>\n",
       "      <td>Iris-virginica</td>\n",
       "      <td>12.80</td>\n",
       "    </tr>\n",
       "  </tbody>\n",
       "</table>\n",
       "</div>"
      ],
      "text/plain": [
       "      Id  SepalLengthCm  SepalWidthCm  PetalLengthCm  PetalWidthCm  \\\n",
       "118  119            7.7           2.6            6.9           2.3   \n",
       "117  118            7.7           3.8            6.7           2.2   \n",
       "122  123            7.7           2.8            6.7           2.0   \n",
       "105  106            7.6           3.0            6.6           2.1   \n",
       "131  132            7.9           3.8            6.4           2.0   \n",
       "\n",
       "            Species  PetalAreaCm2  \n",
       "118  Iris-virginica         15.87  \n",
       "117  Iris-virginica         14.74  \n",
       "122  Iris-virginica         13.40  \n",
       "105  Iris-virginica         13.86  \n",
       "131  Iris-virginica         12.80  "
      ]
     },
     "execution_count": 53,
     "metadata": {},
     "output_type": "execute_result"
    }
   ],
   "source": [
    "sorted_df = df.sort_values(by='PetalLengthCm', ascending=False)\n",
    "sorted_df.head(5)"
   ]
  },
  {
   "cell_type": "code",
   "execution_count": null,
   "id": "1a4cea73-47eb-48d3-bb26-b1111e6902e8",
   "metadata": {},
   "outputs": [],
   "source": [
    "sorted_df.reset_index(drop=True, inplace=True)\n",
    "sorted_df.head(5)"
   ]
  },
  {
   "cell_type": "markdown",
   "id": "e5450062",
   "metadata": {},
   "source": [
    "Histogram plot showing the value distribution of petal length:"
   ]
  },
  {
   "cell_type": "code",
   "execution_count": 54,
   "id": "42a3d75c",
   "metadata": {},
   "outputs": [
    {
     "data": {
      "text/plain": [
       "<Axes: ylabel='Frequency'>"
      ]
     },
     "execution_count": 54,
     "metadata": {},
     "output_type": "execute_result"
    },
    {
     "data": {
      "image/png": "[encoded data removed]",
      "text/plain": [
       "<Figure size 640x480 with 1 Axes>"
      ]
     },
     "metadata": {},
     "output_type": "display_data"
    }
   ],
   "source": [
    "df['PetalLengthCm'].plot.hist()"
   ]
  }
 ],
 "metadata": {
  "kernelspec": {
   "display_name": "Python 3 (ipykernel)",
   "language": "python",
   "name": "python3"
  },
  "language_info": {
   "codemirror_mode": {
    "name": "ipython",
    "version": 3
   },
   "file_extension": ".py",
   "mimetype": "text/x-python",
   "name": "python",
   "nbconvert_exporter": "python",
   "pygments_lexer": "ipython3",
   "version": "3.11.10"
  }
 },
 "nbformat": 4,
 "nbformat_minor": 5
}
