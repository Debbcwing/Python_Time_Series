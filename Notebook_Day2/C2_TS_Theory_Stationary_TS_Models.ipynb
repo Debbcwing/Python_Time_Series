{
 "cells": [
  {
   "cell_type": "markdown",
   "id": "5e6cafd1-08e5-478f-b0ba-e78c0f973298",
   "metadata": {},
   "source": [
    "<img src=\"../Images/DSC_Logo.png\" style=\"width: 400px;\">"
   ]
  },
  {
   "cell_type": "markdown",
   "id": "02d573c7-36c8-4bd2-91b6-f7bdb10cbe3a",
   "metadata": {},
   "source": [
    "# Time Series Theory in Python - Part 2: Stationary Time Series Models"
   ]
  },
  {
   "cell_type": "markdown",
   "id": "e48e257c-a346-450f-8147-329f0844eff2",
   "metadata": {},
   "source": [
    "This notebook introduces stationary time series models, including Moving Average (MA), Autoregressive (AR), Autoregressive Moving Average (ARMA), and Autoregressive Integrated Moving Average (ARIMA) models. "
   ]
  },
  {
   "cell_type": "code",
   "execution_count": null,
   "id": "b74952ce-3cf6-4931-ad17-896545e29f6e",
   "metadata": {},
   "outputs": [],
   "source": [
    "!pip install statsmodels PythonTsa "
   ]
  },
  {
   "cell_type": "code",
   "execution_count": null,
   "id": "a280167f-71e7-414c-a1f5-7f66d782c106",
   "metadata": {},
   "outputs": [],
   "source": [
    "from PythonTsa.datadir import getdtapath\n",
    "dtapath=getdtapath()"
   ]
  },
  {
   "cell_type": "code",
   "execution_count": null,
   "id": "7d921605-7053-4113-bbab-f59a909afc2c",
   "metadata": {},
   "outputs": [],
   "source": [
    "import warnings\n",
    "warnings.filterwarnings(\"ignore\", category=UserWarning) # Suppress specific warnings"
   ]
  },
  {
   "cell_type": "code",
   "execution_count": null,
   "id": "3e345e3b-efe2-4991-835d-c879d1ecd7bc",
   "metadata": {},
   "outputs": [],
   "source": [
    "import numpy as np\n",
    "import pandas as pd\n",
    "import matplotlib.pyplot as plt\n",
    "from statsmodels.graphics.tsaplots import plot_acf, plot_pacf\n",
    "from statsmodels.tsa.stattools import acf\n",
    "from pandas.plotting import lag_plot\n",
    "from statsmodels.stats.diagnostic import acorr_ljungbox\n",
    "import statsmodels.api as sm"
   ]
  },
  {
   "cell_type": "markdown",
   "id": "104c2ee5-f3e2-4725-86f3-5f9f7731fedf",
   "metadata": {},
   "source": [
    "## 1. Moving Average (MA) Models"
   ]
  },
  {
   "cell_type": "code",
   "execution_count": null,
   "id": "9360f451-88d3-4d9f-82dd-01dc03617d06",
   "metadata": {},
   "outputs": [],
   "source": [
    "from statsmodels.tsa.arima_process import arma_generate_sample"
   ]
  },
  {
   "cell_type": "markdown",
   "id": "dfbd41ba-1504-41b0-ad55-b3befc7f0e82",
   "metadata": {},
   "source": [
    "Generating MA(2) Model given by the equation:\n",
    "<span style=\"font-size: 24px;\">$$ X_t = \\varepsilon_t + 0.6 \\varepsilon_{t-1} - 0.3 \\varepsilon_{t-2} $$</span>\n"
   ]
  },
  {
   "cell_type": "markdown",
   "id": "c90ceb28-ad58-4b41-b1dd-577f64923f75",
   "metadata": {},
   "source": [
    "With the Python function `arma_generate_sample`, we can get samples from an autoregressive moving average (ARMA) process defined by specified parameters."
   ]
  },
  {
   "cell_type": "code",
   "execution_count": null,
   "id": "677a031c-71a0-4847-9ffd-0d9649d59d8b",
   "metadata": {},
   "outputs": [],
   "source": [
    "# Define the MA parameters\n",
    "ma = np.array([1, 0.6, -0.3])  # MA coefficients\n",
    "\n",
    "# Set the random seed for reproducibility\n",
    "np.random.seed(123457)\n",
    "\n",
    "# Generate a sample from the ARMA process\n",
    "x = arma_generate_sample(ar=[1], ma=ma, nsample=500)  # AR part is set to [1] for no AR component\n",
    "\n",
    "# Check the type of x (should be a numpy array)\n",
    "print(type(x))  # Output: <class 'numpy.ndarray'>\n",
    "\n",
    "# Convert x to a pandas Series\n",
    "x = pd.Series(x)\n",
    "\n",
    "# Check the type of x again (now it should be a Series)\n",
    "print(type(x))  # Output: <class 'pandas.core.series.Series'>\n",
    "\n",
    "# Plot the time series\n",
    "x.plot()\n",
    "plt.title('Generated MA(2) Series')\n",
    "plt.xlabel('Time')\n",
    "plt.ylabel('Value')\n",
    "plt.show()\n",
    "\n",
    "# Plot ACF and PACF\n",
    "plot_acf(x, lags=20)\n",
    "plt.title('ACF of the Generated MA(2) Series')\n",
    "plt.show()\n",
    "plot_pacf(x, lags=20)\n",
    "plt.title('PACF of the Generated MA(2) Series')\n",
    "plt.show()\n",
    "\n",
    "# Lag plots for lag 1 and 2\n",
    "fig = plt.figure()\n",
    "lag_plot(x, lag=1, ax=fig.add_subplot(211))\n",
    "plt.title('Lag Plot (Lag 1)')\n",
    "lag_plot(x, lag=2, ax=fig.add_subplot(212))\n",
    "plt.title('Lag Plot (Lag 2)')\n",
    "plt.tight_layout()\n",
    "plt.show()\n",
    "\n",
    "# Lag plots for lags 3 and 4\n",
    "fig = plt.figure()\n",
    "lag_plot(x, lag=3, ax=fig.add_subplot(211))\n",
    "plt.title('Lag Plot (Lag 3)')\n",
    "lag_plot(x, lag=4, ax=fig.add_subplot(212))\n",
    "plt.title('Lag Plot (Lag 4)')\n",
    "plt.tight_layout()\n",
    "plt.show()"
   ]
  },
  {
   "cell_type": "markdown",
   "id": "11522c4a-6fe2-48c8-99b6-d1e4362bf0bf",
   "metadata": {},
   "source": [
    "## 2. Autoregressive Models"
   ]
  },
  {
   "cell_type": "markdown",
   "id": "8ddecd01-f9d2-4c88-b88c-2fe49fd4bbdc",
   "metadata": {},
   "source": [
    "Generating a sample of size (length) 500 from AR(2) Model given by the equation:  \n",
    "<span style=\"font-size: 24px;\">$$ X_t = 0.8 X_{t-1} - 0.3 X_{t-2} + \\varepsilon_t $$</span>  \n",
    "\n",
    "where  <span style=\"font-size: 18px;\">$ \\varepsilon_t \\sim \\text{iid} \\, N(0, 1). $</span>\n"
   ]
  },
  {
   "cell_type": "code",
   "execution_count": null,
   "id": "6aba4ab8-5998-4383-8a61-1d4cf5f0fa81",
   "metadata": {},
   "outputs": [],
   "source": [
    "# Define the AR parameters (AR(2) model)\n",
    "ar = np.array([1, -0.8, 0.3])  # AR coefficients\n",
    "\n",
    "# Set the random seed for reproducibility\n",
    "np.random.seed(123457)\n",
    "\n",
    "# Generate a sample from the AR process\n",
    "x = arma_generate_sample(ar=ar, ma=[1], nsample=500)  # ma=[1] means no MA part in the model\n",
    "\n",
    "# Convert the generated sample to a pandas Series\n",
    "x = pd.Series(x)\n",
    "\n",
    "# Plot the time series\n",
    "x.plot()\n",
    "plt.title('Generated AR(2) Sample')\n",
    "plt.xlabel('Time')\n",
    "plt.ylabel('Value')\n",
    "plt.show()\n",
    "\n",
    "# Plot ACF and PACF\n",
    "plot_acf(x, lags=20)\n",
    "plt.title('ACF of the Generated AR(2) Sample')\n",
    "plt.show()\n",
    "plot_pacf(x, lags=20)\n",
    "plt.title('PACF of the Generated AR(2) Sample')\n",
    "plt.show()\n",
    "\n",
    "# Lag plot for lag 11\n",
    "lag_plot(x, lag=11)\n",
    "plt.title('Lag Plot (Lag 11)')\n",
    "plt.show()\n"
   ]
  },
  {
   "cell_type": "markdown",
   "id": "d25c924d-807f-4271-8daf-21618ee04de1",
   "metadata": {},
   "source": [
    "## 3. Autoregressive Moving Average (ARMA) Models"
   ]
  },
  {
   "cell_type": "markdown",
   "id": "c903ab86-3f2f-4a97-bc06-e0a05c135034",
   "metadata": {},
   "source": [
    "### **Example 1: Simulating and Building an ARMA(2, 2) Model**"
   ]
  },
  {
   "cell_type": "markdown",
   "id": "c4e97aa7-437d-498a-b37f-bb2e61e11695",
   "metadata": {},
   "source": [
    "Consider the following ARMA(2,2) model:\n",
    "\n",
    "<span style=\"font-size: 18px;\">$$\n",
    "X_t = 0.8 X_{t-1} - 0.6 X_{t-2} + \\varepsilon_t + 0.7 \\varepsilon_{t-1} + 0.4 \\varepsilon_{t-2}\n",
    "$$</span>\n",
    "\n",
    "In this model, $ X_t $ is expressed as a linear combination of its previous values and past error terms $( \\varepsilon $). We can simulate this ARMA(2,2) model using Python to analyze its properties and behavior.\n"
   ]
  },
  {
   "cell_type": "markdown",
   "id": "2c621134-e443-48ab-94a9-597c2512996a",
   "metadata": {},
   "source": [
    "### Build dataset:"
   ]
  },
  {
   "cell_type": "code",
   "execution_count": null,
   "id": "702a426b-fbc8-42db-ab3c-f610e3730e6b",
   "metadata": {},
   "outputs": [],
   "source": [
    "from statsmodels.tsa.arima.model import ARIMA "
   ]
  },
  {
   "cell_type": "code",
   "execution_count": null,
   "id": "2a32d4aa-34fe-4074-bd9d-11be3a6fff88",
   "metadata": {},
   "outputs": [],
   "source": [
    "# Set random seed for reproducibility\n",
    "np.random.seed(12357)\n",
    "\n",
    "# Define AR and MA parameters for the ARMA model\n",
    "ar = np.array([1, -0.8, 0.6])  # AR coefficients\n",
    "ma = np.array([1, 0.7, 0.4])   # MA coefficients\n",
    "\n",
    "# Create an ARMA process\n",
    "arma_process = sm.tsa.ArmaProcess(ar, ma)\n",
    "\n",
    "# Check for stationarity and invertibility\n",
    "print(\"Stationarity:\", arma_process.isstationary)  # Check if the process is stationary\n",
    "print(\"Invertibility:\", arma_process.isinvertible)  # Check if the process is invertible\n",
    "\n",
    "# Generate a sample from the ARMA process\n",
    "y = arma_generate_sample(ar=ar, ma=ma, nsample=500)\n",
    "y = pd.Series(y, name='y')  # Convert the generated data to a pandas Series\n",
    "\n",
    "# Plot the time series\n",
    "plt.figure()\n",
    "y.plot(title='ARMA(2, 2) Time Series', xlabel='Time', ylabel='Value')\n",
    "plt.grid()\n",
    "plt.show()\n",
    "\n",
    "# Plot ACF and PACF\n",
    "plot_acf(y, lags=20)\n",
    "plt.show()\n",
    "plot_pacf(y, lags=20)\n",
    "plt.show()\n",
    "\n",
    "# Lag plot for lag 11\n",
    "lag_plot(y, lag=11)\n",
    "plt.title('Lag Plot (Lag 11)')\n",
    "plt.show()"
   ]
  },
  {
   "cell_type": "markdown",
   "id": "036a18fd-3c21-4be5-bd02-5524de7396cb",
   "metadata": {},
   "source": [
    "### Choose the best model:"
   ]
  },
  {
   "cell_type": "markdown",
   "id": "b572dbf4-9ccb-4638-a5d6-afa5fb36177a",
   "metadata": {},
   "source": [
    "Here we perform a comprehensive search for the best ARMA model through an exploration of multiple combinations of orders `p` and `q`."
   ]
  },
  {
   "cell_type": "markdown",
   "id": "75671aa8-5ed7-4f8c-840a-be00ba9fbdc9",
   "metadata": {},
   "source": [
    "Note: ARMA modeling is performed using the Python function ARIMA, where the differencing parameter is set to zero (i.e., order=(p, 0, q)). This fits an ARMA(p, q) model to the data.\n"
   ]
  },
  {
   "cell_type": "code",
   "execution_count": null,
   "id": "1678e3dc-3e0c-4ebb-b1ba-f145eb37d7f3",
   "metadata": {
    "scrolled": true
   },
   "outputs": [],
   "source": [
    "max_p = 6\n",
    "max_q = 7\n",
    "model_metrics = []\n",
    "\n",
    "print(\"Fitting ARMA models...\")  # Debug message\n",
    "\n",
    "for p in range(max_p + 1):\n",
    "    for q in range(max_q + 1):\n",
    "        if p == 0 and q == 0:\n",
    "            continue  # Skip the case where both p and q are zero\n",
    "        \n",
    "        try:\n",
    "            model = ARIMA(y, order=(p, 0, q)).fit()  # Use ARIMA with d=0 for ARMA\n",
    "            model_metrics.append((p, q, model.aic, model.bic, model.hqic))  # Store p, q, AIC, BIC, HQIC\n",
    "            print(f\"Fitted ARIMA({p}, 0, {q}) with AIC: {model.aic}, BIC: {model.bic}, HQIC: {model.hqic}\")  # Print AIC, BIC, HQIC for each fitted model\n",
    "        except Exception as e:\n",
    "            print(f\"Error fitting ARIMA({p}, 0, {q}): {e}\")\n",
    "\n",
    "# Convert model metrics to DataFrame for easier analysis\n",
    "metrics_df = pd.DataFrame(model_metrics, columns=['p', 'q', 'AIC', 'BIC', 'HQIC'])\n",
    "\n",
    "# Print model metrics\n",
    "print(\"\\nModel Metrics for Different ARMA Models:\")\n",
    "print(metrics_df)\n",
    "\n",
    "# Get the best model based on the minimum AIC\n",
    "if not metrics_df.empty:\n",
    "    best_model = metrics_df.loc[metrics_df['AIC'].idxmin()]\n",
    "    print(\"\\nBest ARMA Model (p, q, AIC, BIC, HQIC):\", best_model)\n",
    "else:\n",
    "    print(\"No models were fitted successfully.\")"
   ]
  },
  {
   "cell_type": "code",
   "execution_count": null,
   "id": "cc5020e9-9e3c-4ff4-93b3-86010de605a6",
   "metadata": {},
   "outputs": [],
   "source": [
    "inf=sm.tsa.arma_order_select_ic(y, max_ar=6, max_ma=7, ic=['aic', 'bic', 'hqic'], trend='c') # for statsmodels 0.13.0 and later, trend=’n’"
   ]
  },
  {
   "cell_type": "code",
   "execution_count": null,
   "id": "0a09067d-70e8-4136-9d41-3a208f7ead2c",
   "metadata": {},
   "outputs": [],
   "source": [
    "inf.aic_min_order"
   ]
  },
  {
   "cell_type": "code",
   "execution_count": null,
   "id": "8eb6218b-df7c-4bff-85c6-0ef3f816e0e4",
   "metadata": {},
   "outputs": [],
   "source": [
    "inf.bic_min_order"
   ]
  },
  {
   "cell_type": "code",
   "execution_count": null,
   "id": "635c02ef-7cc7-4f63-9f53-1030f8d152b7",
   "metadata": {},
   "outputs": [],
   "source": [
    "inf.hqic_min_order"
   ]
  },
  {
   "cell_type": "code",
   "execution_count": null,
   "id": "166489e2-1ac7-4ed5-912b-3704192ae6ae",
   "metadata": {},
   "outputs": [],
   "source": [
    "arma22=ARIMA(y, order=(2,0,2)).fit()"
   ]
  },
  {
   "cell_type": "code",
   "execution_count": null,
   "id": "4f74afb1-a042-4b1f-b57a-e55c86fed67f",
   "metadata": {},
   "outputs": [],
   "source": [
    "print(arma22.summary())"
   ]
  },
  {
   "cell_type": "markdown",
   "id": "b43c5290-8975-406b-9385-17ca832256eb",
   "metadata": {},
   "source": [
    "### Fit model:"
   ]
  },
  {
   "cell_type": "code",
   "execution_count": null,
   "id": "7bbc7109-daf5-42e2-a746-7f244c1deab9",
   "metadata": {
    "jupyter": {
     "source_hidden": true
    }
   },
   "outputs": [],
   "source": [
    "# Fit the ARMA(2, 2) model\n",
    "arma22 = ARIMA(y, order=(2, 0, 2), trend='n').fit()\n",
    "\n",
    "# Analyze the residuals\n",
    "resid22 = arma22.resid\n",
    "\n",
    "# Plot ACF and PACF of the residuals\n",
    "plot_acf(resid22, lags=20)\n",
    "plt.show()\n",
    "plot_pacf(resid22, lags=20)\n",
    "plt.show()\n",
    "\n",
    "# Perform the Ljung-Box test for residuals\n",
    "    # Calculate Ljung-Box test statistics and p-values\n",
    "ljung_box_results = acorr_ljungbox(resid22, lags=26, return_df=True)\n",
    "    # Create a plot for the p-values\n",
    "plt.figure()\n",
    "plt.plot(ljung_box_results['lb_pvalue'], marker='o', linestyle='-', color='b')\n",
    "plt.axhline(y=0.05, color='r', linestyle='--')  # 5% significance level\n",
    "plt.title('Ljung-Box Test P-Values')\n",
    "plt.xlabel('Lags')\n",
    "plt.ylabel('P-Value')\n",
    "plt.xticks(np.arange(0, 31, 1))\n",
    "plt.xticks(ljung_box_results.index)  # Set x-ticks to all lags\n",
    "plt.gca().set_xticklabels([str(int(x)) if x % 2 == 0 else '' for x in ljung_box_results.index])\n",
    "plt.grid()\n",
    "plt.show()\n",
    "\n",
    "# Perform the normality test on residuals\n",
    "from scipy import stats \n",
    "normaltest_result = stats.normaltest(resid22)\n",
    "print(\"Normality test result:\", normaltest_result)"
   ]
  },
  {
   "cell_type": "markdown",
   "id": "386fc6e7-5177-4762-a649-1719acae1f69",
   "metadata": {},
   "source": [
    "### Predict model:"
   ]
  },
  {
   "cell_type": "code",
   "execution_count": null,
   "id": "d1b38792-3959-4b0f-b025-6e98519e6ca0",
   "metadata": {},
   "outputs": [],
   "source": [
    "# Get predictions for the specified range (start=450, end=509)\n",
    "pred = arma22.get_prediction(start=450, end=509)\n",
    "predicts = pred.predicted_mean\n",
    "predconf = pred.conf_int()\n",
    "\n",
    "# Combine observed data, predictions, and confidence intervals into a DataFrame\n",
    "predframe = pd.concat([y[450:], predicts, predconf], axis=1)\n",
    "predframe.columns = ['Observed', 'Predicted', 'Lower CI', 'Upper CI']\n",
    "\n",
    "# Plot observed, predicted, and confidence intervals\n",
    "plt.figure(figsize=(10, 5))\n",
    "plt.plot(predframe['Observed'], label='Observed', color='blue')\n",
    "plt.plot(predframe['Predicted'], label='Predicted', color='red')\n",
    "plt.fill_between(predframe.index, predframe['Lower CI'], predframe['Upper CI'], color='gray', alpha=0.5, label='Confidence Interval')\n",
    "plt.title('ARMA(2, 2) Predictions and Confidence Intervals')\n",
    "plt.legend()\n",
    "plt.show()"
   ]
  },
  {
   "cell_type": "markdown",
   "id": "e0ec8eb6-9a55-4368-bd53-09c2a7f81b8b",
   "metadata": {},
   "source": [
    "### **Example 2: The NAO Index Since January 1950**"
   ]
  },
  {
   "cell_type": "markdown",
   "id": "75b4c695-2e08-400f-abe8-7bfd362db971",
   "metadata": {},
   "source": [
    "The time series dataset \"nao\" in the folder \"Ptsadata\" is the monthly mean North Atlantic Oscillation (NAO) index since January 1950. The NAO index is important for weather research and is based on the surface sea level pressure difference between the subtropical (Azores) high and the subpolar low."
   ]
  },
  {
   "cell_type": "code",
   "execution_count": null,
   "id": "15e74684-b7e6-4e1f-90ba-e3eac82d71b8",
   "metadata": {},
   "outputs": [],
   "source": [
    "# Load the NAO dataset\n",
    "nao = pd.read_csv(dtapath + 'nao.csv', header=0)\n",
    "\n",
    "# Create a time index\n",
    "timeindex = pd.date_range('1950-01', periods=len(nao), freq='ME')\n",
    "nao.index = timeindex\n",
    "\n",
    "# Extract NAO index as a Series\n",
    "naots = nao['index']  # Ensure 'index' corresponds to the correct column name\n",
    "\n",
    "# Check the type of the dataframe and series\n",
    "print(type(nao))    # Should print: <class 'pandas.core.frame.DataFrame'>\n",
    "print(type(naots))  # Should print: <class 'pandas.core.series.Series'>\n",
    "\n",
    "# Plot the NAO index time series\n",
    "naots.plot(title='NAO Index Time Series', xlabel='Date', ylabel='NAO Index')\n",
    "plt.show()"
   ]
  },
  {
   "cell_type": "markdown",
   "id": "acf55bc1-eb0b-4e65-8d35-9888797c5ce1",
   "metadata": {},
   "source": [
    "**Exercise:** Plot ACF and PACF and fit an ARMA(1,0) model to the data."
   ]
  },
  {
   "cell_type": "code",
   "execution_count": null,
   "id": "37f40c42-e0d0-4b48-ac16-bf60d698f157",
   "metadata": {
    "scrolled": true
   },
   "outputs": [],
   "source": []
  },
  {
   "cell_type": "markdown",
   "id": "fdf26fae-064f-4682-b96a-cf5e992b6098",
   "metadata": {},
   "source": [
    "**Exercise:** Analyze residuals from the ARMA model by receiving the residuals from the fitted model, plotting ACF and PACF, and performing the Ljung-Box test for residuals."
   ]
  },
  {
   "cell_type": "code",
   "execution_count": null,
   "id": "7feb9271-661e-4a98-9601-b84f977b76a2",
   "metadata": {},
   "outputs": [],
   "source": []
  },
  {
   "cell_type": "markdown",
   "id": "7599a5bc-74ad-4970-ac0b-4478f7148cfd",
   "metadata": {},
   "source": [
    "**Exercise:** Use the fitted model for predictions from April 2010 to December 2019. Plot the predictions and confidence intervals."
   ]
  },
  {
   "cell_type": "code",
   "execution_count": null,
   "id": "0afd5ac5-3a55-4410-96d4-1a6b3711cb2c",
   "metadata": {},
   "outputs": [],
   "source": []
  },
  {
   "cell_type": "markdown",
   "id": "a60c9daf-ab14-4b19-9810-4122a98f840a",
   "metadata": {},
   "source": [
    "## 4. Differencing, and Stationarity Test"
   ]
  },
  {
   "cell_type": "markdown",
   "id": "97f0c201-91b3-438e-993b-d3dfbfecf580",
   "metadata": {},
   "source": [
    "### KPSS Stationary Test"
   ]
  },
  {
   "cell_type": "markdown",
   "id": "741538c6-8d0b-42a4-9532-0129da047e4f",
   "metadata": {},
   "source": [
    "For application of the KPSS test, in the module `statsmodels.tsa.stattools`, there is a test function `kpss` that is the KPSS stationarity test where the argument `regression='c'` means that the function tests the stationarity of a time series without clear trend and obvious seasonality."
   ]
  },
  {
   "cell_type": "code",
   "execution_count": null,
   "id": "00b0a452-6c97-442d-be8b-d7365a491b28",
   "metadata": {},
   "outputs": [],
   "source": [
    "from statsmodels.tsa.stattools import kpss"
   ]
  },
  {
   "cell_type": "markdown",
   "id": "a5a4fae3-e6f2-449b-a7f6-b65a66313db0",
   "metadata": {},
   "source": [
    "### **Example 2 [continued]: The NAO Index Since January 1950**"
   ]
  },
  {
   "cell_type": "code",
   "execution_count": null,
   "id": "157284d4-a110-48c9-9dea-49cd0b7f8f67",
   "metadata": {},
   "outputs": [],
   "source": [
    "# Perform KPSS test for stationarity\n",
    "kpss_result = kpss(naots, regression=\"c\", nlags=50)\n",
    "print(kpss_result)"
   ]
  },
  {
   "cell_type": "markdown",
   "id": "0ed00fd5-e835-4c10-bbe8-62a50f474e60",
   "metadata": {},
   "source": [
    "The p-value 0.096 validates that the NAO Index time series has stationarity. Hence, applying ARMA model was appropriate."
   ]
  },
  {
   "cell_type": "markdown",
   "id": "290851df-2bd8-46d5-bb20-bc4c9c9d6a56",
   "metadata": {},
   "source": [
    "### **Example 3: Southern Hemisphere Temperature Volatility Data Series**\n",
    "\n",
    "The dataset \"Southtemperature\" in the folder \"Ptsadata\" is the monthly temperature volatility series (Jan 1850 – Dec 2007) for the southern hemisphere, which were extracted from the database maintained by the University of East Anglia Climatic Research Unit. This dataset is read from left to right. In order to make it belong to the Series class in pandas, we use the function `pd.concat` to connect every row in it. As it has 158 rows, we use a for loop to complete this connection."
   ]
  },
  {
   "cell_type": "code",
   "execution_count": null,
   "id": "1b301784-f8df-4ac5-bbf1-43e9080021a0",
   "metadata": {
    "scrolled": true
   },
   "outputs": [],
   "source": [
    "# Load the temperature data using read_csv\n",
    "tem = pd.read_csv(dtapath + 'Southtemperature.txt', header=None, sep='\\s+')\n",
    "\n",
    "# Concatenate the first two rows\n",
    "temts = pd.concat([tem.loc[0], tem.loc[1]], ignore_index=True)\n",
    "\n",
    "# Use a loop to concatenate the remaining rows\n",
    "for i in range(2, 158):\n",
    "    temts = pd.concat([temts, tem.loc[i]], ignore_index=True)\n",
    "\n",
    "# Check the type of temts (should be pandas Series)\n",
    "print(type(temts))  # Output: <class 'pandas.core.series.Series'>\n",
    "\n",
    "# Create a date range starting from 1850 with monthly frequency\n",
    "dates = pd.date_range('1850', periods=len(temts), freq='ME')\n",
    "temts.index = dates\n",
    "\n",
    "# Plot the original time series\n",
    "temts.plot()\n",
    "plt.title('Southern Hemisphere Temperature Volatility')\n",
    "plt.xlabel('Year')\n",
    "plt.ylabel('Temperature Volatility')\n",
    "plt.show()\n",
    "\n",
    "# KPSS test for stationarity\n",
    "kpss_stat, p_value, lags, crit_values = kpss(temts, regression='c', nlags='auto')\n",
    "\n",
    "# Output the results of the KPSS test\n",
    "print(f'KPSS Statistic: {kpss_stat}')\n",
    "print(f'p-value: {p_value}')\n",
    "print(f'Lags: {lags}')\n",
    "print('Critical Values:', crit_values)\n",
    "if p_value < 0.05:\n",
    "    print(\"The series is likely non-stationary.\")\n",
    "else:\n",
    "    print(\"The series is likely stationary.\")"
   ]
  },
  {
   "cell_type": "markdown",
   "id": "4bd1946a-491e-4ab6-b0b4-4393f01dde1f",
   "metadata": {},
   "source": [
    "First differencing the time series:"
   ]
  },
  {
   "cell_type": "code",
   "execution_count": null,
   "id": "f9831100-b97a-44e2-9b8d-7f42fdc2dfeb",
   "metadata": {},
   "outputs": [],
   "source": [
    "dt = temts.diff(1).dropna()\n",
    "\n",
    "# Plot the differenced series\n",
    "dt.plot()\n",
    "plt.title('First Difference of Temperature Volatility')\n",
    "plt.xlabel('Year')\n",
    "plt.ylabel('Differenced Temperature Volatility')\n",
    "plt.show()\n",
    "\n",
    "# Plot ACF using PythonTsa (PACF is not plotted here)\n",
    "plot_acf(dt, lags=48)\n",
    "plt.title('ACF of Differenced Temperature Volatility')\n",
    "plt.show()\n",
    "\n",
    "# KPSS test for stationarity\n",
    "kpss_stat, p_value, lags, crit_values = kpss(dt, regression='c', nlags='auto')\n",
    "\n",
    "# Output the results of the KPSS test\n",
    "print(f'KPSS Statistic: {kpss_stat}')\n",
    "print(f'p-value: {p_value}')\n",
    "print(f'Lags: {lags}')\n",
    "print('Critical Values:', crit_values)\n",
    "if p_value < 0.05:\n",
    "    print(\"The series is likely non-stationary.\")\n",
    "else:\n",
    "    print(\"The series is likely stationary.\")"
   ]
  },
  {
   "cell_type": "markdown",
   "id": "175e1c86-5f81-4e14-91c4-0816f2c43022",
   "metadata": {},
   "source": [
    "### **Example 4: Chinese Quarterly GDP**"
   ]
  },
  {
   "cell_type": "markdown",
   "id": "af1a3178-610f-4b76-b88a-8a4747114dd6",
   "metadata": {},
   "source": [
    "We found that the Chinese Quarterly GDP time series has time series has both trend and seasonality: "
   ]
  },
  {
   "cell_type": "code",
   "execution_count": null,
   "id": "c4ef31f0-18d2-4b30-b8af-f8007331fbd7",
   "metadata": {
    "scrolled": true
   },
   "outputs": [],
   "source": [
    "# Load the data\n",
    "x = pd.read_csv(dtapath + 'gdpquarterlychina1992.1-2017.4.csv',header=0)\n",
    "dates = pd.date_range(start='1992',periods=len(x),freq='QE')\n",
    "x.index=dates\n",
    "\n",
    "# Plot the time series\n",
    "x.plot()\n",
    "plt.title('Chinese Quarterly GDP 1992-2017')\n",
    "plt.ylabel('billions of RMB')\n",
    "plt.show()"
   ]
  },
  {
   "cell_type": "markdown",
   "id": "96f82926-82e6-45a2-a2a4-7935ea9c74a5",
   "metadata": {},
   "source": [
    "Since it is the quarterly data, the number of seasons is 4 naturally, therefore seasonally difference it with a lag of 4."
   ]
  },
  {
   "cell_type": "code",
   "execution_count": null,
   "id": "985bffea-2624-4bf4-9dbd-8023657b4b10",
   "metadata": {},
   "outputs": [],
   "source": [
    "# Create a date range starting from 1992 with quarterly frequency\n",
    "dates = pd.date_range(start='1992', periods=len(x), freq='QE')\n",
    "x.index = dates\n",
    "\n",
    "# Create a time series from the 'GDP' column\n",
    "x = pd.Series(x['GDP'])\n",
    "\n",
    "# Seasonal differencing with lag 4\n",
    "dx = x.diff(4).dropna()\n",
    "\n",
    "# Plot the seasonally differenced series\n",
    "dx.plot(marker='o', ms=3)  # ms refers to marker size\n",
    "plt.title('Seasonally Differenced GDP (Lag 4)')\n",
    "plt.xlabel('Date')\n",
    "plt.ylabel('Differenced GDP')\n",
    "plt.show()\n",
    "\n",
    "# First differencing the seasonally differenced series\n",
    "d1dx = dx.diff(1).dropna()\n",
    "\n",
    "# Plot the first difference of the seasonally differenced series\n",
    "d1dx.plot(marker='o', ms=3)\n",
    "plt.title('First Difference of Seasonally Differenced GDP')\n",
    "plt.xlabel('Date')\n",
    "plt.ylabel('Differenced GDP')\n",
    "plt.show()\n",
    "\n",
    "# Plot ACF and PACF for the first difference of seasonally differenced series\n",
    "plot_acf(d1dx, lags=44)\n",
    "plt.title('ACF of Differenced Series')\n",
    "plt.show()\n",
    "plot_pacf(d1dx, lags=44)\n",
    "plt.title('PACF of Differenced Series')\n",
    "plt.show()\n",
    "\n",
    "# KPSS test for stationarity\n",
    "kpss_stat, p_value, lags, crit_values = kpss(d1dx, regression='c', nlags='auto')\n",
    "\n",
    "# Output the results of the KPSS test\n",
    "print(f'KPSS Statistic: {kpss_stat}')\n",
    "print(f'p-value: {p_value}')\n",
    "print(f'Lags: {lags}')\n",
    "print('Critical Values:', crit_values)\n",
    "if p_value < 0.05:\n",
    "    print(\"The series is likely non-stationary.\")\n",
    "else:\n",
    "    print(\"The series is likely stationary.\")"
   ]
  },
  {
   "cell_type": "markdown",
   "id": "383c7bf7-9832-4001-a186-8ff26748e838",
   "metadata": {},
   "source": [
    "## 5. Autoregressive Integrated Moving Average (ARIMA) Models\n",
    "\n",
    "The key difference is that ARMA is for stationary data, while ARIMA can handle non-stationary data through its differencing component."
   ]
  },
  {
   "cell_type": "markdown",
   "id": "c44676fe-f9aa-43da-a854-a61c970b7f5b",
   "metadata": {},
   "source": [
    "### **Example 5: Global Annual Mean Surface Air Temperature Changes Series (1880-1985)**\n",
    "\n",
    "The time series dataset \"Global mean surface air temperature changes 1880–1985\" (denoted as GMSATC) from the folder `Ptsadata` is from Hansen and Lebedeff (1987) that investigates the global warming issue. "
   ]
  },
  {
   "cell_type": "markdown",
   "id": "a088e4bb-8b1d-4517-b48d-aa5806bd04f8",
   "metadata": {},
   "source": [
    "### Preprocess:"
   ]
  },
  {
   "cell_type": "code",
   "execution_count": null,
   "id": "e239b1f9-364c-4e7a-912e-94dcaf343518",
   "metadata": {},
   "outputs": [],
   "source": [
    "# Load the dataset\n",
    "tep = pd.read_csv(dtapath + 'Global mean surface air temp changes 1880-1985.csv', header=None)\n",
    "\n",
    "# Create a date index\n",
    "dates = pd.date_range('1880-12', periods=len(tep), freq='A-DEC')\n",
    "tep.index = dates\n",
    "tepts = pd.Series(tep[0], name='tep')\n",
    "\n",
    "# Plot the original time series\n",
    "plt.plot(tepts, color='b')\n",
    "plt.title('Global Mean Surface Air Temperature Changes (1880-1985)')\n",
    "plt.show()\n",
    "\n",
    "# Differencing the time series\n",
    "dtepts = tepts.diff(1)\n",
    "dtepts = dtepts.dropna()\n",
    "dtepts.name = 'dtep'\n",
    "\n",
    "# Plot the differenced time series\n",
    "plt.plot(dtepts, color='b')\n",
    "plt.title('Differenced Time Series')\n",
    "plt.show()\n",
    "\n",
    "# KPSS test for stationarity\n",
    "kpss_test = kpss(dtepts, regression='c', nlags='auto')\n",
    "print('KPSS Test Results:', kpss_test)\n",
    "\n",
    "# Plot ACF and PACF\n",
    "plot_acf(dtepts, lags=20)\n",
    "plt.show()\n",
    "plot_pacf(dtepts, lags=20)\n",
    "plt.show()"
   ]
  },
  {
   "cell_type": "markdown",
   "id": "2823e0f0-6efc-4dae-860e-e037a0e711e2",
   "metadata": {},
   "source": [
    "### Choose the best model:"
   ]
  },
  {
   "cell_type": "code",
   "execution_count": null,
   "id": "dd63670d-dc43-47da-93fc-5158e98aaded",
   "metadata": {},
   "outputs": [],
   "source": [
    "def choose_model(x, max_p, max_q, ctrl=1.03):\n",
    "    best_aic = np.inf\n",
    "    best_order = None\n",
    "    best_mdl = None\n",
    "\n",
    "    for p in range(max_p + 1):\n",
    "        for q in range(max_q + 1):\n",
    "            try:\n",
    "                if p == 0 and q == 0:\n",
    "                    continue\n",
    "                # Use ARIMA model instead of ARMA\n",
    "                model = ARIMA(x, order=(p, 0, q))\n",
    "                results = model.fit()\n",
    "                aic = results.aic\n",
    "                if aic < best_aic:\n",
    "                    best_aic = aic\n",
    "                    best_order = (p, q)\n",
    "                    best_mdl = results\n",
    "            except Exception as e:\n",
    "                print(f\"Model fitting failed for order ({p},{q}) with error: {e}\")\n",
    "                continue\n",
    "\n",
    "    print(f\"Best ARIMA model order: {best_order} with AIC: {best_aic}\")\n",
    "    return best_mdl\n",
    "\n",
    "# Call the model selection function\n",
    "best_model = choose_model(dtepts, max_p=7, max_q=7, ctrl=1.03)\n",
    "\n",
    "# Optionally, display the best model summary\n",
    "if best_model:\n",
    "    print(best_model.summary())"
   ]
  },
  {
   "cell_type": "markdown",
   "id": "7b666f98-fd75-408f-88ee-d0a864b94504",
   "metadata": {},
   "source": [
    "### Fit model:"
   ]
  },
  {
   "cell_type": "code",
   "execution_count": null,
   "id": "77ef3fc9-fab8-479a-a26d-794977d4bc4a",
   "metadata": {},
   "outputs": [],
   "source": [
    "arma11= ARIMA(dtepts, order=(1,3,0)).fit()\n",
    "print(arma11.summary())"
   ]
  },
  {
   "cell_type": "code",
   "execution_count": null,
   "id": "80027993-262a-4601-b7b6-7393d40be6be",
   "metadata": {},
   "outputs": [],
   "source": [
    "# Analyze the residuals\n",
    "resid11 = arma11.resid\n",
    "resid11.head(10)"
   ]
  },
  {
   "cell_type": "code",
   "execution_count": null,
   "id": "095882ee-925b-4f1e-955d-437c26fe5f34",
   "metadata": {},
   "outputs": [],
   "source": [
    "# Perform the normality test on residuals\n",
    "normaltest_result = stats.normaltest(resid11)\n",
    "print(\"Normality test result:\", normaltest_result)\n",
    "\n",
    "# Perform the Ljung-Box test for residuals\n",
    "    # Calculate Ljung-Box test statistics and p-values\n",
    "ljung_box_results = acorr_ljungbox(resid11, lags=20, return_df=True)\n",
    "    # Create a plot for the p-values\n",
    "plt.figure()\n",
    "plt.plot(ljung_box_results['lb_pvalue'], marker='o', linestyle='-', color='b')\n",
    "plt.axhline(y=0.05, color='r', linestyle='--')  # 5% significance level\n",
    "plt.title('Ljung-Box Test P-Values')\n",
    "plt.xlabel('Lags')\n",
    "plt.ylabel('P-Value')\n",
    "plt.xticks(ljung_box_results.index)  # Set x-ticks to all lags\n",
    "plt.gca().set_xticklabels([str(int(x)) if x % 2 == 0 else '' for x in ljung_box_results.index])\n",
    "plt.grid()\n",
    "plt.show()\n",
    "\n",
    "# Q-Q plot\n",
    "plt.figure()\n",
    "sm.qqplot(resid11, line='q', ax=plt.gca())\n",
    "plt.title('Q-Q Plot (Sample vs Theoretical Quantiles)')\n",
    "plt.grid()\n",
    "\n",
    "# ACF of Residuals\n",
    "plt.figure()\n",
    "plot_acf(resid11, lags=25, ax=plt.gca())  # ACF plot for residuals\n",
    "plt.title('ACF of Residuals')\n",
    "plt.grid()\n",
    "\n",
    "# ACF of Squared Residuals\n",
    "plt.figure()\n",
    "plot_acf(np.square(resid11), lags=25, ax=plt.gca())  # ACF plot for squared residuals\n",
    "plt.title('ACF of Squared Residuals')\n",
    "plt.grid()"
   ]
  },
  {
   "cell_type": "markdown",
   "id": "09c7af13-315b-4f75-8792-fdc0ed72ecf5",
   "metadata": {},
   "source": [
    "### Predict model:"
   ]
  },
  {
   "cell_type": "code",
   "execution_count": null,
   "id": "bb5ff406-3430-425f-a0f3-3b3f35f7abad",
   "metadata": {},
   "outputs": [],
   "source": [
    "# Generate prediction results\n",
    "pred = arma11.get_prediction(start='1960-12', end='1990-12')\n",
    "\n",
    "# Extract predicted mean and confidence intervals\n",
    "predicts = pred.predicted_mean\n",
    "predconf = pred.conf_int()\n",
    "\n",
    "# Plot\n",
    "plt.figure(figsize=(10, 5))\n",
    "plt.plot(dtepts, label='Observed', color='blue')\n",
    "predicts.plot(label='Forecast', color='red')\n",
    "plt.fill_between(predicts.index,\n",
    "                 predconf.iloc[:, 0],\n",
    "                 predconf.iloc[:, 1], color='gray', alpha=0.3, label='Confidence Interval')\n",
    "plt.title('ARIMA Forecast (1960-1990)')\n",
    "plt.xlabel('Year')\n",
    "plt.ylabel('Differenced Temperature')\n",
    "plt.legend()\n",
    "plt.show()"
   ]
  },
  {
   "cell_type": "code",
   "execution_count": null,
   "id": "7a61de7a-85f1-4bd4-89de-47225671f345",
   "metadata": {},
   "outputs": [],
   "source": []
  }
 ],
 "metadata": {
  "kernelspec": {
   "display_name": "Python 3 (ipykernel)",
   "language": "python",
   "name": "python3"
  },
  "language_info": {
   "codemirror_mode": {
    "name": "ipython",
    "version": 3
   },
   "file_extension": ".py",
   "mimetype": "text/x-python",
   "name": "python",
   "nbconvert_exporter": "python",
   "pygments_lexer": "ipython3",
   "version": "3.11.10"
  }
 },
 "nbformat": 4,
 "nbformat_minor": 5
}
